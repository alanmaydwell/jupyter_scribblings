{
 "cells": [
  {
   "cell_type": "markdown",
   "metadata": {},
   "source": [
    "## Set Identity\n",
    "```git config --global user.name \"Fred Centric\"```     \n",
    "```git config --global user.email fredcentric@example.com```"
   ]
  },
  {
   "cell_type": "markdown",
   "metadata": {},
   "source": [
    "### Viewing own settings\n",
    "\n",
    "```git config --list```\n",
    "\n",
    "```git config user.name```"
   ]
  },
  {
   "cell_type": "markdown",
   "metadata": {},
   "source": [
    "## Clone a Repo\n",
    "``` git clone <url>```"
   ]
  },
  {
   "cell_type": "markdown",
   "metadata": {},
   "source": [
    "## Create a New Branch\n",
    "\n",
    "``` git checkout -b <branch name> ```"
   ]
  },
  {
   "cell_type": "markdown",
   "metadata": {},
   "source": [
    "## Create Sub-Branch From Parent Branch\n",
    "``` git checkout -b <sub-branch name> <parent branch name> ```"
   ]
  },
  {
   "cell_type": "markdown",
   "metadata": {},
   "source": [
    "## Switch to Existing Branch\n",
    "``` git checkout <branch name> ```"
   ]
  },
  {
   "cell_type": "markdown",
   "metadata": {},
   "source": [
    "## Checking Current Branch\n",
    "(lists only local)    \n",
    "```git branch```      \n",
    "(also includes remote brach names)    \n",
    "```git branch --all```"
   ]
  },
  {
   "cell_type": "markdown",
   "metadata": {},
   "source": [
    "## Committing Changes \n",
    "git add *    \n",
    "or    \n",
    "git add .    \n",
    "or     \n",
    "git add <filename>    \n",
    "    \n",
    "git committ -m \"message text\""
   ]
  },
  {
   "cell_type": "markdown",
   "metadata": {},
   "source": [
    "## Removing staged (added) but not yet committed file\n",
    "\n",
    "```git reset HEAD <file>```"
   ]
  },
  {
   "cell_type": "markdown",
   "metadata": {},
   "source": [
    "## Amending a Commit\n",
    "\n",
    "```git commit --amend```"
   ]
  },
  {
   "cell_type": "markdown",
   "metadata": {},
   "source": [
    "## Start new repo locally\n",
    "\n",
    "#cd to the directory\n",
    "#git init"
   ]
  },
  {
   "cell_type": "markdown",
   "metadata": {},
   "source": [
    "# Rebase\n",
    "\n",
    "Example Here\n",
    "https://help.github.com/articles/using-git-rebase-on-the-command-line/"
   ]
  },
  {
   "cell_type": "markdown",
   "metadata": {},
   "source": [
    "## Squash\n",
    "\n",
    "https://gist.github.com/patik/b8a9dc5cd356f9f6f980\n",
    "\n",
    "Switch to the master branch and make sure you are up to date:\n",
    "\n",
    "git checkout master && git pull\n",
    "\n",
    "Merge your feature branch into the master branch locally:\n",
    "\n",
    "git merge feature_branch\n",
    "\n",
    "Reset the local master branch to origin's state:\n",
    "\n",
    "git reset origin/master\n",
    "\n",
    "Now all of your changes are considered as unstaged changed. You can stage and commit them into one or more commits.\n",
    "\n",
    "git add . --all\n",
    "git commit"
   ]
  },
  {
   "cell_type": "code",
   "execution_count": null,
   "metadata": {
    "collapsed": true
   },
   "outputs": [],
   "source": []
  }
 ],
 "metadata": {
  "kernelspec": {
   "display_name": "Python 2",
   "language": "python",
   "name": "python2"
  },
  "language_info": {
   "codemirror_mode": {
    "name": "ipython",
    "version": 2
   },
   "file_extension": ".py",
   "mimetype": "text/x-python",
   "name": "python",
   "nbconvert_exporter": "python",
   "pygments_lexer": "ipython2",
   "version": "2.7.15rc1"
  }
 },
 "nbformat": 4,
 "nbformat_minor": 2
}
