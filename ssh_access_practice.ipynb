{
 "cells": [
  {
   "cell_type": "markdown",
   "metadata": {},
   "source": [
    "## ssh database access using python subprocess\n",
    "https://stackoverflow.com/questions/19900754/python-subprocess-run-multiple-shell-commands-over-ssh     \n",
    "https://gist.github.com/bortzmeyer/1284249"
   ]
  },
  {
   "cell_type": "code",
   "execution_count": 20,
   "metadata": {},
   "outputs": [],
   "source": [
    "import subprocess"
   ]
  },
  {
   "cell_type": "code",
   "execution_count": 11,
   "metadata": {},
   "outputs": [
    {
     "name": "stdout",
     "output_type": "stream",
     "text": [
      "ssh -i ~/.ssh/aws_key alanmaydwell@35.176.251.101 -L 1521:ccr.cawpafeamjmu.eu-west-2.rds.amazonaws.com:1521\n"
     ]
    }
   ],
   "source": [
    "action = [\"ssh\", \"-i\", \"~/.ssh/aws_key\", \"alanmaydwell@35.176.251.101\"]\n",
    "action = action + [\"-L\", \"1521:ccr.cawpafeamjmu.eu-west-2.rds.amazonaws.com:1521\"]\n",
    "\n",
    "print \" \".join(action)"
   ]
  },
  {
   "cell_type": "code",
   "execution_count": 21,
   "metadata": {},
   "outputs": [],
   "source": [
    "ssh_process = subprocess.Popen(action,\n",
    "                               stdin=subprocess.PIPE, \n",
    "                               stdout = subprocess.PIPE,\n",
    "                               stderr=subprocess.PIPE,\n",
    "                               shell=False\n",
    "                              )"
   ]
  },
  {
   "cell_type": "code",
   "execution_count": null,
   "metadata": {},
   "outputs": [],
   "source": [
    "\"\"\"\"\n",
    "result = ssh_process.stdout.readlines()\n",
    "if result == []:\n",
    "    error = ssh.stderr.readlines()\n",
    "    print >>sys.stderr, \"ERROR: %s\" % error\n",
    "else:\n",
    "    print result\n",
    "\"\"\""
   ]
  },
  {
   "cell_type": "code",
   "execution_count": 22,
   "metadata": {},
   "outputs": [],
   "source": [
    "# Shutting-down\n",
    "ssh_process.stdin.write(\"exit\\n\")\n",
    "ssh_process.stdin.close()\n",
    "ssh_process.terminate()"
   ]
  },
  {
   "cell_type": "code",
   "execution_count": null,
   "metadata": {},
   "outputs": [],
   "source": []
  },
  {
   "cell_type": "markdown",
   "metadata": {},
   "source": [
    "## Paramiko\n",
    "Different approach using paramiko for ssh. Don't know how to setup to the port-forwarding for database access using this."
   ]
  },
  {
   "cell_type": "markdown",
   "metadata": {},
   "source": [
    "### Port Forwarding example\n",
    "https://github.com/paramiko/paramiko/blob/master/demos/forward.py"
   ]
  },
  {
   "cell_type": "code",
   "execution_count": 1,
   "metadata": {},
   "outputs": [],
   "source": [
    "import paramiko"
   ]
  },
  {
   "cell_type": "code",
   "execution_count": 6,
   "metadata": {},
   "outputs": [
    {
     "name": "stderr",
     "output_type": "stream",
     "text": [
      "/usr/lib/python2.7/dist-packages/Crypto/Cipher/blockalgo.py:141: FutureWarning: CTR mode needs counter parameter, not IV\n",
      "  self._cipher = factory.new(key, *args, **kwargs)\n"
     ]
    }
   ],
   "source": [
    "# Get key\n",
    "key = paramiko.RSAKey.from_private_key_file(\"/home/alan/.ssh/aws_key\")\n",
    "\n",
    "# Setup session\n",
    "session = paramiko.SSHClient()\n",
    "session.set_missing_host_key_policy(paramiko.AutoAddPolicy())\n",
    "session.load_system_host_keys()\n",
    "\n",
    "#Connect using key from above\n",
    "session.connect( hostname = \"35.176.251.101\", username = \"alanmaydwell\", pkey = key )\n",
    "\n",
    "#Close\n",
    "session.close()"
   ]
  }
 ],
 "metadata": {
  "kernelspec": {
   "display_name": "Python 2",
   "language": "python",
   "name": "python2"
  },
  "language_info": {
   "codemirror_mode": {
    "name": "ipython",
    "version": 2
   },
   "file_extension": ".py",
   "mimetype": "text/x-python",
   "name": "python",
   "nbconvert_exporter": "python",
   "pygments_lexer": "ipython2",
   "version": "2.7.12"
  }
 },
 "nbformat": 4,
 "nbformat_minor": 2
}
