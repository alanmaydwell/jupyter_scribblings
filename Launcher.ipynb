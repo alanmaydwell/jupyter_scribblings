{
 "cells": [
  {
   "cell_type": "markdown",
   "metadata": {},
   "source": [
    "# Launcher\n",
    "Sets up GUI for running Python file with multiple Excel files passed to it as arguments.\n",
    "\n",
    "Skip to **Run Things** near the end to execute script\n"
   ]
  },
  {
   "cell_type": "code",
   "execution_count": 1,
   "metadata": {
    "collapsed": true
   },
   "outputs": [],
   "source": [
    "import ipywidgets as widgets\n",
    "import time\n",
    "import os\n",
    "\n",
    "#Used to clear output\n",
    "import IPython.display"
   ]
  },
  {
   "cell_type": "markdown",
   "metadata": {},
   "source": [
    "**Specify directory and read relevant filename details from it**"
   ]
  },
  {
   "cell_type": "code",
   "execution_count": 2,
   "metadata": {},
   "outputs": [
    {
     "name": "stdout",
     "output_type": "stream",
     "text": [
      "/home/alan/temp/temp_jupyter_files\n"
     ]
    }
   ],
   "source": [
    "#Specify directory and cd to it\n",
    "file_path = \"/home/alan/temp/temp_jupyter_files\"\n",
    "%cd $file_path\n",
    "\n",
    "#Read directory's filenames into Python\n",
    "#(alternative would be filenames = %ls but doesn't work on Windows) \n",
    "cwd = os.getcwd()\n",
    "filenames = os.listdir(cwd)\n",
    "\n",
    "#Extract Excel and Python filenames based on their file extensions\n",
    "xl_filenames = [f for f in filenames if f.lower().endswith(\".xlsx\")]\n",
    "py_filenames = [f for f in filenames if f.lower().endswith(\".py\")]"
   ]
  },
  {
   "cell_type": "markdown",
   "metadata": {},
   "source": [
    "#### Define GUI items for running the external script with chosen files\n",
    "title, tickboxes, run button"
   ]
  },
  {
   "cell_type": "code",
   "execution_count": 3,
   "metadata": {
    "collapsed": true
   },
   "outputs": [],
   "source": [
    "#Define some title text in HTML format (looks nicer)\n",
    "title_text = widgets.HTML(value=\"<b>Run chosen file with selected filenames</b>\")\n",
    "\n",
    "#Create a drop-down list containing Python executables in the folder\n",
    "pyfile_list = widgets.Dropdown(options=py_filenames, description='Executable:')\n",
    "\n",
    "#Create a list containing a tickbox widget for each filename\n",
    "tickboxes = [widgets.Checkbox(value=False, description=filename) for filename in xl_filenames]\n",
    "\n",
    "#Create Run button\n",
    "run_button = widgets.Button(\n",
    "    description='Run',\n",
    "    button_style='info', # 'success', 'info', 'warning', 'danger' or ''\n",
    "    icon='fa-flash'#icon types - http://fontawesome.io/cheatsheet/\n",
    "    )\n",
    "\n",
    "#Define function called when Run button pressed\n",
    "def run_script(button):\n",
    "    \"\"\"Only argument is the button instance which is automatically passed\"\"\"\n",
    "    #Disable the button to prevent multiple simulaneous runs\n",
    "    button.disabled = True\n",
    "    #Read the chosen Python file and spreadsheet files\n",
    "    chosen_py = pyfile_list.value\n",
    "    chosen_xl = [tickbox.description for tickbox in tickboxes if tickbox.value==True]\n",
    "    #Converting spreadsheets from list to space-separated string\n",
    "    args = \" \".join(chosen_xl)\n",
    "    #Execute the script using %run ('bash', not Python. Need to prefix Python objects with $)\n",
    "    %run $chosen_py $args\n",
    "    #Re-enable button as run now complete\n",
    "    button.disabled = False\n",
    "    \n",
    "#Associate button with the above function\n",
    "run_button.on_click(run_script)\n",
    "\n",
    "#Define a style for vertical box \n",
    "box_layout = widgets.Layout(display='flex',\n",
    "                            flex_flow='column',\n",
    "                            align_items='stretch',\n",
    "                            border='solid',\n",
    "                            width='50%')\n",
    "\n",
    "#Create a vertical box to display the items, using style from above\n",
    "##run_vbox = widgets.VBox([title_text, pyfile_list]+tickboxes+[run_button], layout=box_layout)\n",
    "##run_vbox = widgets.VBox([title_text, pyfile_list]+tickboxes+[run_button])\n",
    "##display(run_vbox)"
   ]
  },
  {
   "cell_type": "markdown",
   "metadata": {},
   "source": [
    "#### Define Folder Opener Button"
   ]
  },
  {
   "cell_type": "code",
   "execution_count": 4,
   "metadata": {
    "collapsed": true
   },
   "outputs": [],
   "source": [
    "folder_path = file_path#+r\"\\results\"\n",
    "open_label = widgets.HTML(folder_path)\n",
    "open_button = widgets.Button(description='Open Folder', button_style='success', icon='fa-folder')\n",
    "\n",
    "def open_folder(button):\n",
    "    button.disabled = True\n",
    "    #\"bash\" line - not Python!\n",
    "    !nemo $folder_path\n",
    "    button.disabled = False\n",
    "    \n",
    "open_button.on_click(open_folder)\n",
    "\n",
    "#put button and lable in HBox to set horizontal alignment between them\n",
    "open_hbox = widgets.HBox([open_button, open_label])\n",
    "\n",
    "#display(open_label,open_button)\n",
    "##display(open_hbox)"
   ]
  },
  {
   "cell_type": "markdown",
   "metadata": {},
   "source": [
    "#### Define a \"clear cell output\" button"
   ]
  },
  {
   "cell_type": "code",
   "execution_count": 5,
   "metadata": {
    "collapsed": true
   },
   "outputs": [],
   "source": [
    "clear_button = widgets.Button(\n",
    "    description='Erase Text Below',\n",
    "    button_style='danger', # 'success', 'info', 'warning', 'danger' or ''\n",
    "    icon='fa-trash'#icon types - http://fontawesome.io/cheatsheet/\n",
    "    )\n",
    "\n",
    "def clear_output(button):\n",
    "    #Delete cell contents (wait=True might be needed to redisplay Wipe button itself)\n",
    "    IPython.display.clear_output(wait=True)\n",
    "    #Redraw the items we want (not needed!)\n",
    "    display(run_vbox)\n",
    "    \n",
    "clear_button.on_click(clear_output)"
   ]
  },
  {
   "cell_type": "markdown",
   "metadata": {},
   "source": [
    "## Run Things\n",
    "Display items created above (in containing vbox) so they can be used"
   ]
  },
  {
   "cell_type": "code",
   "execution_count": 6,
   "metadata": {},
   "outputs": [
    {
     "data": {
      "application/vnd.jupyter.widget-view+json": {
       "model_id": "a0bcbebabb87472aa92c76d690dcd0c8",
       "version_major": 2,
       "version_minor": 0
      },
      "text/plain": [
       "A Jupyter Widget"
      ]
     },
     "metadata": {},
     "output_type": "display_data"
    }
   ],
   "source": [
    "run_vbox = widgets.VBox([title_text, pyfile_list]+tickboxes+[run_button, open_hbox, clear_button], layout=box_layout)\n",
    "display(run_vbox)"
   ]
  },
  {
   "cell_type": "code",
   "execution_count": null,
   "metadata": {
    "collapsed": true
   },
   "outputs": [],
   "source": []
  }
 ],
 "metadata": {
  "kernelspec": {
   "display_name": "Python 2",
   "language": "python",
   "name": "python2"
  },
  "language_info": {
   "codemirror_mode": {
    "name": "ipython",
    "version": 2
   },
   "file_extension": ".py",
   "mimetype": "text/x-python",
   "name": "python",
   "nbconvert_exporter": "python",
   "pygments_lexer": "ipython2",
   "version": "2.7.12"
  }
 },
 "nbformat": 4,
 "nbformat_minor": 2
}
