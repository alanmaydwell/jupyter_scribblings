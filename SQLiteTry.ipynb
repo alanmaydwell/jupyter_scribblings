{
 "cells": [
  {
   "cell_type": "markdown",
   "metadata": {},
   "source": [
    "# SQLite Try\n",
    "Simple example of using SQLite"
   ]
  },
  {
   "cell_type": "code",
   "execution_count": 29,
   "metadata": {},
   "outputs": [],
   "source": [
    "import sqlite3\n",
    "\n",
    "def execute_sql(conn, sql):\n",
    "    try:\n",
    "        cur = conn.cursor()\n",
    "        cur.execute(sql)\n",
    "    except Exception as e:\n",
    "        print(e)\n",
    "\n",
    "def execute_sql_with_params(conn, sql, params):\n",
    "    \"\"\" Exectute SQL with paramter substitution \"\"\"\n",
    "    cur = conn.cursor()\n",
    "    cur.execute(sql, params)\n",
    "    return cur.lastrowid\n",
    "\n",
    "def execute_query(conn, sql):\n",
    "    \"\"\"Execute query and return all rows\"\"\"\n",
    "    cur = conn.cursor()\n",
    "    cur.execute(sql)\n",
    "    return cur.fetchall()\n",
    "    "
   ]
  },
  {
   "cell_type": "markdown",
   "metadata": {},
   "source": [
    "## Connect to database file     \n",
    "File will be created if it doesn't already exist"
   ]
  },
  {
   "cell_type": "code",
   "execution_count": 22,
   "metadata": {},
   "outputs": [],
   "source": [
    "mydatabase = 'sqlite_practice.db'\n",
    "conn = sqlite3.connect(mydatabase)"
   ]
  },
  {
   "cell_type": "markdown",
   "metadata": {},
   "source": [
    "## Add A Table\n",
    "Seems no need to commit"
   ]
  },
  {
   "cell_type": "code",
   "execution_count": null,
   "metadata": {},
   "outputs": [],
   "source": [
    "sql_create_things_table = \"\"\"\n",
    "CREATE TABLE IF NOT EXISTS things(\n",
    "id integer PRIMARY KEY,\n",
    "name text NOT NULL,\n",
    "begin_date text,\n",
    "end_date text\n",
    "            ); \"\"\"\n",
    "\n",
    "execute_sql(conn, sql_create_things_table)"
   ]
  },
  {
   "cell_type": "markdown",
   "metadata": {},
   "source": [
    "## Another Table"
   ]
  },
  {
   "cell_type": "code",
   "execution_count": 5,
   "metadata": {},
   "outputs": [],
   "source": [
    "sql_create_another_table = \"\"\"\n",
    "CREATE TABLE IF NOT EXISTS cakes(\n",
    "id integer PRIMARY KEY,\n",
    "name text NOT NULL,\n",
    "quantity INTEGER\n",
    "            ); \"\"\"\n",
    "\n",
    "execute_sql(conn, sql_create_another_table)"
   ]
  },
  {
   "cell_type": "markdown",
   "metadata": {},
   "source": [
    "## Add Row To Table"
   ]
  },
  {
   "cell_type": "code",
   "execution_count": 27,
   "metadata": {},
   "outputs": [
    {
     "name": "stdout",
     "output_type": "stream",
     "text": [
      "3\n"
     ]
    }
   ],
   "source": [
    "row_sql = ''' INSERT INTO things(name, begin_date, end_date)\n",
    "             VALUES(?,?,?) '''\n",
    "\n",
    "params = (\"Mangle\", \"01-JAN-2019\", \"02-FEB-2019\")\n",
    "\n",
    "new_id = execute_sql_with_params(conn, row_sql, params)\n",
    "print(new_id)"
   ]
  },
  {
   "cell_type": "markdown",
   "metadata": {},
   "source": [
    "## Add Cake To Cake Table"
   ]
  },
  {
   "cell_type": "code",
   "execution_count": 11,
   "metadata": {},
   "outputs": [
    {
     "name": "stdout",
     "output_type": "stream",
     "text": [
      "3\n"
     ]
    }
   ],
   "source": [
    "row_sql = ''' INSERT INTO cakes(name, quantity)\n",
    "             VALUES(?,?) '''\n",
    "\n",
    "params = (\"Eccles Cakes\", 4)\n",
    "\n",
    "new_id = execute_sql_with_params(conn, row_sql, params)\n",
    "print(new_id)"
   ]
  },
  {
   "cell_type": "markdown",
   "metadata": {},
   "source": [
    "## Need to commit updates and inserts, otherwise lost"
   ]
  },
  {
   "cell_type": "code",
   "execution_count": 28,
   "metadata": {},
   "outputs": [],
   "source": [
    "conn.commit()"
   ]
  },
  {
   "cell_type": "markdown",
   "metadata": {},
   "source": [
    "## Update"
   ]
  },
  {
   "cell_type": "code",
   "execution_count": 25,
   "metadata": {},
   "outputs": [],
   "source": [
    "sql = \"\"\"\n",
    "update things\n",
    "set name = 'Spoon'\n",
    "where id = 2\n",
    "\"\"\"\n",
    "\n",
    "execute_sql(conn, sql)"
   ]
  },
  {
   "cell_type": "markdown",
   "metadata": {},
   "source": [
    "## Query"
   ]
  },
  {
   "cell_type": "code",
   "execution_count": 15,
   "metadata": {},
   "outputs": [
    {
     "name": "stdout",
     "output_type": "stream",
     "text": [
      "(1, 'Hoot', '01-JAN-2019', '02-FEB-2019')\n",
      "(2, 'Hoot', '01-JAN-2019', '02-FEB-2019')\n"
     ]
    }
   ],
   "source": [
    "sql = \"select * from things\"\n",
    "rows = execute_query(conn, sql)\n",
    "\n",
    "for row in rows:\n",
    "    print(row)"
   ]
  },
  {
   "cell_type": "markdown",
   "metadata": {},
   "source": [
    "## Close connection"
   ]
  },
  {
   "cell_type": "code",
   "execution_count": 19,
   "metadata": {},
   "outputs": [],
   "source": [
    "conn.close()"
   ]
  },
  {
   "cell_type": "code",
   "execution_count": 30,
   "metadata": {},
   "outputs": [
    {
     "data": {
      "text/plain": [
       "<sqlite3.Connection at 0x7f98b8164b90>"
      ]
     },
     "execution_count": 30,
     "metadata": {},
     "output_type": "execute_result"
    }
   ],
   "source": [
    "conn"
   ]
  },
  {
   "cell_type": "code",
   "execution_count": null,
   "metadata": {},
   "outputs": [],
   "source": []
  }
 ],
 "metadata": {
  "kernelspec": {
   "display_name": "jupyter3",
   "language": "python",
   "name": "jupyter3"
  },
  "language_info": {
   "codemirror_mode": {
    "name": "ipython",
    "version": 3
   },
   "file_extension": ".py",
   "mimetype": "text/x-python",
   "name": "python",
   "nbconvert_exporter": "python",
   "pygments_lexer": "ipython3",
   "version": "3.6.7"
  }
 },
 "nbformat": 4,
 "nbformat_minor": 2
}
