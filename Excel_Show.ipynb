{
 "cells": [
  {
   "cell_type": "markdown",
   "metadata": {},
   "source": [
    "## Openpyxl"
   ]
  },
  {
   "cell_type": "code",
   "execution_count": 55,
   "metadata": {},
   "outputs": [
    {
     "name": "stdout",
     "output_type": "stream",
     "text": [
      "A - 00000000 : 00000000\n",
      "B - FFCCFFCC : 00000000\n",
      "C - 00000000 : 00000000\n",
      "D - FFFFFF00 : 00000000\n",
      "E - 00000000 : 00000000\n",
      "F - 00000000 : 00000000\n",
      "G - 00000000 : 00000000\n",
      "H - 00000000 : 00000000\n",
      "I - 00000000 : 00000000\n",
      "J - 00000000 : 00000000\n",
      "K - FF993300 : 00000000\n",
      "L - 00000000 : 00000000\n",
      "M - FF3366FF : 00000000\n",
      "N - 00000000 : 00000000\n",
      "O - 00000000 : 00000000\n",
      "P - FF9999FF : 00000000\n"
     ]
    }
   ],
   "source": [
    "import openpyxl\n",
    "\n",
    "wb = openpyxl.load_workbook(filename = 'simple.xlsx')\n",
    "wb.sheetnames\n",
    "ws = wb.get_sheet_by_name(wb.sheetnames[0])\n",
    "\n",
    "for row in ws.iter_rows():\n",
    "    for cell in row:\n",
    "        #print cell.value\n",
    "        print cell.value, '-', cell.fill.bgColor.rgb,\":\", cell.font.color.rgb\n"
   ]
  },
  {
   "cell_type": "markdown",
   "metadata": {},
   "source": [
    "## Read section of spreadsheet and display as html table\n",
    "(might be better to use PANDAS instead)"
   ]
  },
  {
   "cell_type": "code",
   "execution_count": 63,
   "metadata": {},
   "outputs": [
    {
     "data": {
      "text/html": [
       "<table border=\"1\">\n",
       "<tr>\n",
       "<th>One</th><th>Two</th><th>Three</th><th>Four</th>\n",
       "</tr>\n",
       "\n",
       "<tr>\n",
       "<td>A</td><td bgcolor=\"#CCFFCC\">B</td><td>C</td><td bgcolor=\"#FFFF00\">D</td>\n",
       "</tr>\n",
       "\n",
       "<tr>\n",
       "<td>E</td><td>F</td><td>G</td><td>H</td>\n",
       "</tr>\n",
       "\n",
       "<tr>\n",
       "<td>I</td><td>J</td><td bgcolor=\"#993300\">K</td><td>L</td>\n",
       "</tr>\n",
       "\n",
       "<tr>\n",
       "<td bgcolor=\"#3366FF\">M</td><td>N</td><td>O</td><td bgcolor=\"#9999FF\">P</td>\n",
       "</tr>\n",
       "</table>"
      ],
      "text/plain": [
       "<IPython.core.display.HTML object>"
      ]
     },
     "metadata": {},
     "output_type": "display_data"
    }
   ],
   "source": [
    "from IPython.display import HTML\n",
    "\n",
    "class ExcelShow:\n",
    "    def __init__(self,filename):\n",
    "        \"\"\"Opne spreadsheet\"\"\"\n",
    "        self.wb = openpyxl.load_workbook(filename = filename)\n",
    "        \n",
    "    def show_cells(self, start_row, end_row, start_col, end_col, tab, top_headings=False):\n",
    "        \"\"\"Reads cell range and converts to HTML table for display\n",
    "        Includes values and background colour\n",
    "        \"\"\"\n",
    "        # Select tab\n",
    "        ws = self.wb.get_sheet_by_name(tab)\n",
    "        # Start making HTML table\n",
    "        table = HTML_Table()\n",
    "        #Iterate over row range\n",
    "        for ri, row in enumerate(range(start_row,end_row+1)):\n",
    "            #Add row to HTML table\n",
    "            table.new_row()\n",
    "            #Read each column from Excel\n",
    "            for col in range(start_col,end_col+1):\n",
    "                cell = ws.cell(row=row, column=col)\n",
    "                #Background colour handling\n",
    "                #White background returned as 00000000 (black), so skip this one!\n",
    "                bg=\"\"\n",
    "                if cell.fill.bgColor.rgb!=\"00000000\":\n",
    "                    #get Excel cell background colour and convert to HTML style\n",
    "                    bg = ' bgcolor=\"#'+cell.fill.bgColor.rgb[2:]+'\"'\n",
    "\n",
    "                #Defaul tag is td (table data) but set the topmost row to be a heading row if flag set\n",
    "                tag = \"td\"\n",
    "                if ri==0 and top_headings:\n",
    "                    tag = \"th\"\n",
    "                #Add the cell to the table    \n",
    "                table.add_item(str(cell.value), bg, tag=tag)\n",
    "        #Finish the HTML table\n",
    "        table.end()\n",
    "        ##print table.text\n",
    "        #Disply the table\n",
    "        display(HTML(table.text))\n",
    "\n",
    "class HTML_Table:\n",
    "    \"\"\"Helps create an HTML table\"\"\"\n",
    "    def __init__(self):\n",
    "        self.text = '<table border=\"1\">'##'<table style=\"width:100%\">'\n",
    "        self.row_under_construction = False\n",
    "    \n",
    "    def add_item(self, value, attributes=\"\", tag=\"td\"):\n",
    "        \"\"\"Adds item to row\"\"\"\n",
    "        if not self.row_under_construction:\n",
    "            self.new_row()\n",
    "        ##self.text = self.text+\"<td>\"+value+\"</td>\"\n",
    "        self.text = self.text+self.tagger(tag,value, attributes)\n",
    "        \n",
    "    def tagger(self, tag, value=\"\", attributes=\"\"):\n",
    "        \"\"\"Tag maker. Returns constructed tag\"\"\"\n",
    "        temp = \"<\"+tag + attributes + \">\"\n",
    "        temp = temp + value\n",
    "        temp = temp + \"</\"+tag+\">\"\n",
    "        return temp\n",
    "        \n",
    "    def new_row(self):\n",
    "        \"\"\"Starts new table row\"\"\"\n",
    "        #Finish old row if one alredy underway\n",
    "        if self.row_under_construction:\n",
    "            self.end_row()\n",
    "        #Start new row\n",
    "        self.text=self.text+\"\\n<tr>\\n\"\n",
    "        self.row_under_construction = True\n",
    "    \n",
    "    def end_row(self):\n",
    "        \"\"\"End a row\"\"\"\n",
    "        if self.row_under_construction:\n",
    "            self.text=self.text+\"\\n</tr>\\n\"\n",
    "            self.row_under_construction = False\n",
    "            \n",
    "    def end(self):\n",
    "        \"\"\"End whole table\"\"\"\n",
    "        self.end_row()\n",
    "        self.text = self.text +\"</table>\"\n",
    "        \n",
    "                \n",
    "go = ExcelShow('simple.xlsx')\n",
    "go.show_cells(1,5,1,4,\"Sheet1\", top_headings=True)  \n",
    "    "
   ]
  },
  {
   "cell_type": "code",
   "execution_count": null,
   "metadata": {
    "collapsed": true
   },
   "outputs": [],
   "source": []
  }
 ],
 "metadata": {
  "kernelspec": {
   "display_name": "Python 2",
   "language": "python",
   "name": "python2"
  },
  "language_info": {
   "codemirror_mode": {
    "name": "ipython",
    "version": 2
   },
   "file_extension": ".py",
   "mimetype": "text/x-python",
   "name": "python",
   "nbconvert_exporter": "python",
   "pygments_lexer": "ipython2",
   "version": "2.7.12"
  }
 },
 "nbformat": 4,
 "nbformat_minor": 2
}
