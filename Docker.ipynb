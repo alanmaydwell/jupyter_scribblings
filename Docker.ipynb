{
 "cells": [
  {
   "cell_type": "code",
   "execution_count": null,
   "metadata": {
    "collapsed": true
   },
   "outputs": [],
   "source": [
    "from ipywidgets import interact, interactive, fixed, interact_manual\n",
    "import ipywidgets as widgets"
   ]
  },
  {
   "cell_type": "markdown",
   "metadata": {},
   "source": [
    "# Docker\n",
    "\n",
    "- Some files in /var/lib/docker (owned by root - not even read-only access for others!)\n",
    "\n",
    "- https://github.com/wsargent/docker-cheat-sheet\n",
    "- (official?) Docker library for Python https://github.com/docker/docker-py   \n",
    "\n"
   ]
  },
  {
   "cell_type": "markdown",
   "metadata": {},
   "source": [
    "#### Important Distinction\n",
    "\n",
    "**container** - frozen snapshot   \n",
    "**image** - running instance of container"
   ]
  },
  {
   "cell_type": "markdown",
   "metadata": {},
   "source": [
    "### Getting Some Basic Info"
   ]
  },
  {
   "cell_type": "code",
   "execution_count": null,
   "metadata": {},
   "outputs": [],
   "source": [
    "!docker images"
   ]
  },
  {
   "cell_type": "code",
   "execution_count": null,
   "metadata": {
    "collapsed": true
   },
   "outputs": [],
   "source": [
    "!docker info"
   ]
  },
  {
   "cell_type": "markdown",
   "metadata": {},
   "source": [
    "## Processes"
   ]
  },
  {
   "cell_type": "code",
   "execution_count": null,
   "metadata": {},
   "outputs": [],
   "source": [
    "@interact_manual\n",
    "def run_this():\n",
    "    !docker ps -a"
   ]
  },
  {
   "cell_type": "markdown",
   "metadata": {},
   "source": [
    "##  Download Container"
   ]
  },
  {
   "cell_type": "code",
   "execution_count": null,
   "metadata": {},
   "outputs": [],
   "source": [
    "!docker pull ubuntu"
   ]
  },
  {
   "cell_type": "markdown",
   "metadata": {},
   "source": [
    "### List Docker Images\n",
    "Images available on local PC"
   ]
  },
  {
   "cell_type": "code",
   "execution_count": null,
   "metadata": {},
   "outputs": [],
   "source": [
    "!docker images"
   ]
  },
  {
   "cell_type": "markdown",
   "metadata": {},
   "source": [
    "### Run image (creates running container)\n",
    "Note a container might be designed to start, run, then automatically stop.    \n",
    "If you want it to stay active, might be necessary to give it something to do!\n",
    "\n",
    "-it option seems common\n",
    "\n",
    "-t              : Allocate a pseudo-tty (gives a terminal running within the container)    \n",
    "-i              : Keep STDIN open even if not attached (containers tend to auto shutdown if they have nothing to do. This keeps it running)\n",
    "\n",
    "**\n",
    "```docker run <image name>\n",
    "docker run <image ID>\n",
    "```\n",
    "**"
   ]
  },
  {
   "cell_type": "code",
   "execution_count": null,
   "metadata": {
    "collapsed": true
   },
   "outputs": [],
   "source": [
    "!docker run ubuntu"
   ]
  },
  {
   "cell_type": "code",
   "execution_count": null,
   "metadata": {
    "collapsed": true
   },
   "outputs": [],
   "source": [
    "!docker run -i ubuntu"
   ]
  },
  {
   "cell_type": "code",
   "execution_count": null,
   "metadata": {
    "collapsed": true
   },
   "outputs": [],
   "source": [
    "!docker run -it ubuntu"
   ]
  },
  {
   "cell_type": "markdown",
   "metadata": {},
   "source": [
    "### Accessing already running container\n",
    "``` docker exec -it <container name> bash ```"
   ]
  },
  {
   "cell_type": "markdown",
   "metadata": {},
   "source": [
    "## Rename Image"
   ]
  },
  {
   "cell_type": "code",
   "execution_count": null,
   "metadata": {
    "collapsed": true
   },
   "outputs": [],
   "source": [
    "#Rename image - (doesn't stick?)\n",
    "!docker rename awesome_ptolemy ubuntu1"
   ]
  },
  {
   "cell_type": "markdown",
   "metadata": {},
   "source": [
    "## Making new image from container (so changes stick)\n",
    "https://www.digitalocean.com/community/tutorials/how-to-install-and-use-docker-on-ubuntu-16-04\n",
    "\n",
    "- Make changes to running container (e.g. by running apt-get inside it)\n",
    "- Exit from the container ($ exit)\n",
    "- Commit the changes using **docker commit** (causing new image to be created, incorporating the changes)\n",
    "\n",
    "```docker commit <image id of updated image> <name for new container>```   \n",
    "docker commit 9c09acd48a25 ubuntu-with-newthing   \n",
    "\n",
    "e.g. (worked) -m adds optional message, -a optional author     \n",
    "docker commit -m \"added nano and python\" -a \"Alan\" ad3e7f6c5504 ubuntu-alan"
   ]
  },
  {
   "cell_type": "code",
   "execution_count": null,
   "metadata": {
    "collapsed": true
   },
   "outputs": [],
   "source": [
    "docker commit -m \"added nano and python\" -a \"Alan\" ad3e7f6c5504 ubuntu-alan"
   ]
  },
  {
   "cell_type": "markdown",
   "metadata": {
    "collapsed": true
   },
   "source": [
    "## Transferring Images\n",
    "(witout using repository/ Docker website)    \n",
    "https://stackoverflow.com/questions/23935141/how-to-copy-docker-images-from-one-host-to-another-without-via-repository\n",
    "\n",
    "- save the image using **docker save** (creates a tar file)\n",
    "- load the image on other machine using **docker load**\n",
    "\n",
    "```\n",
    "docker save -o <image tar file path (inc filename)> <docker image name to be saved>\n",
    "\n",
    "e.g. docker save -o ubuntu_image1.tar ubuntu1\n",
    "\n",
    "docker load -i <path to image tar file>\n",
    "\n",
    "```"
   ]
  },
  {
   "cell_type": "markdown",
   "metadata": {
    "collapsed": true
   },
   "source": [
    "### Python's own Docker module\n",
    "https://github.com/docker/docker-py     \n",
    "\n",
    "sudo pip install docker   \n",
    " or   \n",
    "pip install --user docker   "
   ]
  },
  {
   "cell_type": "markdown",
   "metadata": {},
   "source": [
    "#### Create Docker Client (local)"
   ]
  },
  {
   "cell_type": "code",
   "execution_count": null,
   "metadata": {
    "collapsed": true
   },
   "outputs": [],
   "source": [
    "import docker\n",
    "client = docker.from_env()"
   ]
  },
  {
   "cell_type": "markdown",
   "metadata": {},
   "source": [
    "#### Create Docker Client (remote)\n",
    "\n",
    "According to, https://stackoverflow.com/questions/35695366/connect-to-docker-hosted-on-remote-server, something like\n",
    "```\n",
    "client = docker.Client(base_url='<https_url>', tls=False)\n",
    "\n",
    "client = docker.Client(base_url='<https_url>', tls=True)\n",
    "```\n",
    "\n",
    "Not sure if right though (might be out-of-date). http://docker-py.readthedocs.io/en/stable/client.html suggests:\n",
    "\n",
    "client = docker.DockerClient(base_url='unix://var/run/docker.sock')\n"
   ]
  },
  {
   "cell_type": "markdown",
   "metadata": {},
   "source": [
    "#### Some info from client (that's been named 'client')"
   ]
  },
  {
   "cell_type": "code",
   "execution_count": null,
   "metadata": {},
   "outputs": [],
   "source": [
    "client.containers.list()"
   ]
  },
  {
   "cell_type": "code",
   "execution_count": null,
   "metadata": {},
   "outputs": [],
   "source": [
    "client.containers.list(all=True)"
   ]
  },
  {
   "cell_type": "code",
   "execution_count": null,
   "metadata": {},
   "outputs": [],
   "source": [
    "client.images.list()"
   ]
  },
  {
   "cell_type": "markdown",
   "metadata": {},
   "source": [
    "#### Start a container"
   ]
  },
  {
   "cell_type": "code",
   "execution_count": null,
   "metadata": {
    "collapsed": true
   },
   "outputs": [],
   "source": [
    "# stdin_open=True, same effect as docker run -i (keeps container running)\n",
    "container = client.containers.run(image='ubuntu-alan:latest', detach=True, stdin_open=True, name='myubuntu')"
   ]
  },
  {
   "cell_type": "code",
   "execution_count": null,
   "metadata": {},
   "outputs": [],
   "source": [
    "client.containers.list()"
   ]
  },
  {
   "cell_type": "code",
   "execution_count": null,
   "metadata": {},
   "outputs": [],
   "source": [
    "container.logs()"
   ]
  },
  {
   "cell_type": "code",
   "execution_count": null,
   "metadata": {},
   "outputs": [],
   "source": [
    "container.status"
   ]
  },
  {
   "cell_type": "code",
   "execution_count": null,
   "metadata": {},
   "outputs": [],
   "source": [
    "client.containers.list()"
   ]
  },
  {
   "cell_type": "code",
   "execution_count": null,
   "metadata": {},
   "outputs": [],
   "source": [
    "container.name\n",
    "container.id"
   ]
  },
  {
   "cell_type": "code",
   "execution_count": null,
   "metadata": {
    "collapsed": true
   },
   "outputs": [],
   "source": [
    "response = container.exec_run(\"pwd\")"
   ]
  },
  {
   "cell_type": "code",
   "execution_count": null,
   "metadata": {},
   "outputs": [],
   "source": [
    "container.logs()"
   ]
  },
  {
   "cell_type": "markdown",
   "metadata": {},
   "source": [
    "#### Stop the Container"
   ]
  },
  {
   "cell_type": "code",
   "execution_count": null,
   "metadata": {
    "collapsed": true
   },
   "outputs": [],
   "source": [
    "container.stop()"
   ]
  },
  {
   "cell_type": "markdown",
   "metadata": {
    "collapsed": true
   },
   "source": [
    "### Access already running container"
   ]
  },
  {
   "cell_type": "code",
   "execution_count": null,
   "metadata": {
    "collapsed": true
   },
   "outputs": [],
   "source": [
    "running_container =  client.containers.get(\"e50d653402\")"
   ]
  },
  {
   "cell_type": "code",
   "execution_count": null,
   "metadata": {},
   "outputs": [],
   "source": [
    "response = running_container.exec_run(\"ls\")\n",
    "print response"
   ]
  },
  {
   "cell_type": "code",
   "execution_count": null,
   "metadata": {
    "collapsed": true
   },
   "outputs": [],
   "source": []
  }
 ],
 "metadata": {
  "kernelspec": {
   "display_name": "Python 2",
   "language": "python",
   "name": "python2"
  },
  "language_info": {
   "codemirror_mode": {
    "name": "ipython",
    "version": 2
   },
   "file_extension": ".py",
   "mimetype": "text/x-python",
   "name": "python",
   "nbconvert_exporter": "python",
   "pygments_lexer": "ipython2",
   "version": "2.7.12"
  }
 },
 "nbformat": 4,
 "nbformat_minor": 2
}
