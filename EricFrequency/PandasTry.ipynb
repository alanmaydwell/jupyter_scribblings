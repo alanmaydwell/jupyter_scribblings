{
 "cells": [
  {
   "cell_type": "markdown",
   "metadata": {},
   "source": [
    "# Trying Out Pandas\n",
    "\n",
    "Pandas is a data manipulation and analysis module for Python which itegrates well with Jupyter Notebooks.\n",
    "\n",
    "https://pandas.pydata.org/\n",
    "\n",
    "\n",
    "This notebook trys out pandas, using data from Eric's report_usage table which records the number of times each Eric report is requested.\n",
    "\n",
    "***Note to use this notebook Python, Jupyter Notebook, pandas and mathplotlib are required. Jump server 140 has all these.***"
   ]
  },
  {
   "cell_type": "markdown",
   "metadata": {},
   "source": [
    "### Some introductory guides to pandas\n",
    "http://www.gregreda.com/2013/10/26/intro-to-pandas-data-structures/      \n",
    "https://towardsdatascience.com/a-quick-introduction-to-the-pandas-python-library-f1b678f34673\n",
    "\n",
    "http://synesthesiam.com/posts/an-introduction-to-pandas.html\n",
    "\n",
    "\n",
    "https://pandas.pydata.org/pandas-docs/stable/tutorials.html\n",
    "\n",
    "Example using Coffee data    \n",
    "https://www.youtube.com/watch?v=5XGycFIe8qE    \n",
    "\n",
    "https://github.com/QCaudron/pydata_pandas    \n",
    "https://github.com/QCaudron/pydata_pandas/blob/master/coffee_analysis_solution.ipynb    \n"
   ]
  },
  {
   "cell_type": "markdown",
   "metadata": {},
   "source": [
    "### Notebook Config\n",
    "- Import pandas\n",
    "- Tweak for graph display"
   ]
  },
  {
   "cell_type": "code",
   "execution_count": 1,
   "metadata": {},
   "outputs": [],
   "source": [
    "import pandas as pd\n",
    "#import datetime\n",
    "##import matplotlib.pyplot as plt\n",
    "%matplotlib inline"
   ]
  },
  {
   "cell_type": "markdown",
   "metadata": {},
   "source": [
    "### Sourcing The Data\n",
    "\n",
    "Grab some report data from Eric database and export to tsv file, **eric_report_use.tsv**\n",
    "```\n",
    "select *  from report_usage \n",
    "where date_requested between '21-JAN-2016' and '31-JAN-2016'\n",
    "order by date_requested, hour_requested\n",
    "```\n",
    "*Note with right Oracle Instant Client setup we should be able to run the query directly from this notebook instead*"
   ]
  },
  {
   "cell_type": "markdown",
   "metadata": {},
   "source": [
    "**Read data into a dataframe**"
   ]
  },
  {
   "cell_type": "code",
   "execution_count": 2,
   "metadata": {},
   "outputs": [],
   "source": [
    "csv_file = \"eric_report_use.tsv\"\n",
    "eric_data = pd.read_csv(csv_file, sep='\\t', skiprows=0)"
   ]
  },
  {
   "cell_type": "markdown",
   "metadata": {},
   "source": [
    "**View dataset**   \n",
    "- Can turn on/off scrollbar from Jupyter menu: **Cell > Current Outputs > Toggle Scrolling**\n",
    "- Note when there are many rows only first and last 30 are displayed. To force display of all rows, the below can be used instead.\n",
    "\n",
    "```\n",
    "with pd.option_context('display.max_rows', None):\n",
    "    display(eric_data)\n",
    "```"
   ]
  },
  {
   "cell_type": "code",
   "execution_count": 3,
   "metadata": {
    "scrolled": false
   },
   "outputs": [],
   "source": [
    "#eric_data"
   ]
  },
  {
   "cell_type": "markdown",
   "metadata": {},
   "source": [
    "One way of viewing a single column"
   ]
  },
  {
   "cell_type": "code",
   "execution_count": 4,
   "metadata": {},
   "outputs": [],
   "source": [
    "#eric_data.REPORT_ID"
   ]
  },
  {
   "cell_type": "markdown",
   "metadata": {},
   "source": [
    "Another way of viewing a single column"
   ]
  },
  {
   "cell_type": "code",
   "execution_count": 5,
   "metadata": {},
   "outputs": [],
   "source": [
    "#eric_data[\"REPORT_ID\"]"
   ]
  },
  {
   "cell_type": "markdown",
   "metadata": {},
   "source": [
    "### Way of viewing particular columns"
   ]
  },
  {
   "cell_type": "code",
   "execution_count": 6,
   "metadata": {},
   "outputs": [],
   "source": [
    "#eric_data[[\"DATE_REQUESTED\",\"HOUR_REQUESTED\"]]"
   ]
  },
  {
   "cell_type": "markdown",
   "metadata": {},
   "source": [
    "### Iteration by row"
   ]
  },
  {
   "cell_type": "code",
   "execution_count": 7,
   "metadata": {},
   "outputs": [],
   "source": [
    "# Iterating just gives the columns\n",
    "##for row in eric_data:\n",
    "##    print row"
   ]
  },
  {
   "cell_type": "code",
   "execution_count": 8,
   "metadata": {
    "scrolled": false
   },
   "outputs": [
    {
     "data": {
      "text/plain": [
       "'\\nfor index, row in eric_data.iterrows():\\n    print index\\n    print row\\n    print \"\\n\"\\n'"
      ]
     },
     "execution_count": 8,
     "metadata": {},
     "output_type": "execute_result"
    }
   ],
   "source": [
    "# To iterate through rows use iterrows\n",
    "\"\"\"\n",
    "for index, row in eric_data.iterrows():\n",
    "    print index\n",
    "    print row\n",
    "    print \"\\n\"\n",
    "\"\"\""
   ]
  },
  {
   "cell_type": "markdown",
   "metadata": {},
   "source": [
    "### Extract results for just one report type"
   ]
  },
  {
   "cell_type": "code",
   "execution_count": 40,
   "metadata": {},
   "outputs": [],
   "source": [
    "# Extract rows with report_id ==1\n",
    "# Also just keep three columns\n",
    "report1_data = eric_data.loc[eric_data['REPORT_ID'] == 1, [\"DATE_REQUESTED\", \"HOUR_REQUESTED\", \"NO_OF_REQUESTS\"]]\n",
    "\n",
    "# remove report_id column from this set\n",
    "#report1_data = report1_data[['DATE_REQUESTED', 'HOUR_REQUESTED', 'NO_OF_REQUESTS']]"
   ]
  },
  {
   "cell_type": "code",
   "execution_count": 10,
   "metadata": {},
   "outputs": [],
   "source": [
    "##report1_data"
   ]
  },
  {
   "cell_type": "code",
   "execution_count": 41,
   "metadata": {},
   "outputs": [
    {
     "data": {
      "text/plain": [
       "DATE_REQUESTED\n",
       "21/01/2016    19\n",
       "22/01/2016     8\n",
       "23/01/2016     4\n",
       "25/01/2016    21\n",
       "26/01/2016    21\n",
       "27/01/2016    14\n",
       "28/01/2016     6\n",
       "29/01/2016    14\n",
       "30/01/2016     1\n",
       "Name: NO_OF_REQUESTS, dtype: int64"
      ]
     },
     "metadata": {},
     "output_type": "display_data"
    }
   ],
   "source": [
    "#Lets get rid of by-hour results\n",
    "report1_daily = report1_data.groupby(\"DATE_REQUESTED\").sum().NO_OF_REQUESTS\n",
    "\n",
    "\n",
    "display(report1_daily)"
   ]
  },
  {
   "cell_type": "code",
   "execution_count": 26,
   "metadata": {},
   "outputs": [],
   "source": [
    "#make function to do the above\n",
    "def daily(df, report_id=1):\n",
    "    report_data = df.loc[df['REPORT_ID'] == report_id, [\"DATE_REQUESTED\", \"HOUR_REQUESTED\", \"NO_OF_REQUESTS\"]]\n",
    "    report_daily = report_data.groupby(\"DATE_REQUESTED\").sum().NO_OF_REQUESTS\n",
    "    return report_daily\n",
    "    "
   ]
  },
  {
   "cell_type": "code",
   "execution_count": 33,
   "metadata": {},
   "outputs": [
    {
     "data": {
      "text/plain": [
       "[DATE_REQUESTED\n",
       " 21/01/2016    19\n",
       " 22/01/2016     8\n",
       " 23/01/2016     4\n",
       " 25/01/2016    21\n",
       " 26/01/2016    21\n",
       " 27/01/2016    14\n",
       " 28/01/2016     6\n",
       " 29/01/2016    14\n",
       " 30/01/2016     1\n",
       " Name: NO_OF_REQUESTS, dtype: int64, DATE_REQUESTED\n",
       " 21/01/2016    66\n",
       " 22/01/2016    37\n",
       " 23/01/2016     9\n",
       " 24/01/2016     4\n",
       " 25/01/2016    49\n",
       " 26/01/2016    56\n",
       " 27/01/2016    32\n",
       " 28/01/2016    43\n",
       " 29/01/2016    42\n",
       " 30/01/2016     9\n",
       " 31/01/2016     3\n",
       " Name: NO_OF_REQUESTS, dtype: int64, DATE_REQUESTED\n",
       " 21/01/2016    41\n",
       " 22/01/2016    24\n",
       " 23/01/2016     5\n",
       " 24/01/2016     2\n",
       " 25/01/2016    27\n",
       " 26/01/2016    35\n",
       " 27/01/2016    27\n",
       " 28/01/2016    25\n",
       " 29/01/2016    37\n",
       " 30/01/2016     8\n",
       " 31/01/2016     4\n",
       " Name: NO_OF_REQUESTS, dtype: int64, DATE_REQUESTED\n",
       " 21/01/2016    7\n",
       " 22/01/2016    3\n",
       " 23/01/2016    1\n",
       " 26/01/2016    3\n",
       " 27/01/2016    3\n",
       " 28/01/2016    4\n",
       " 29/01/2016    5\n",
       " Name: NO_OF_REQUESTS, dtype: int64]"
      ]
     },
     "execution_count": 33,
     "metadata": {},
     "output_type": "execute_result"
    }
   ],
   "source": [
    "daily_figures = []\n",
    "for report_id in (1, 2, 3, 6):\n",
    "    temp = daily(eric_data, report_id)\n",
    "    daily_figures.append(temp)\n",
    "daily_figures"
   ]
  },
  {
   "cell_type": "code",
   "execution_count": 32,
   "metadata": {},
   "outputs": [
    {
     "data": {
      "image/png": "[encoded data removed]",
      "text/plain": [
       "<matplotlib.figure.Figure at 0x7fea23640390>"
      ]
     },
     "metadata": {},
     "output_type": "display_data"
    }
   ],
   "source": [
    "# Plot the results rot=90 sets x-axis text angle\n",
    "for x in daily_figures:\n",
    "    x.plot(rot=90)"
   ]
  },
  {
   "cell_type": "markdown",
   "metadata": {},
   "source": [
    "Above bad as 0 values excluded, so results misleading"
   ]
  },
  {
   "cell_type": "markdown",
   "metadata": {},
   "source": [
    "### Group By ?"
   ]
  },
  {
   "cell_type": "code",
   "execution_count": 13,
   "metadata": {},
   "outputs": [],
   "source": [
    "eric_data_by_day = eric_data[[\"DATE_REQUESTED\", \"REPORT_ID\" , \"NO_OF_REQUESTS\"]].groupby(['DATE_REQUESTED','REPORT_ID'])"
   ]
  },
  {
   "cell_type": "code",
   "execution_count": 14,
   "metadata": {},
   "outputs": [],
   "source": [
    "eric_data_by_day_total = eric_data_by_day.sum()"
   ]
  },
  {
   "cell_type": "code",
   "execution_count": 15,
   "metadata": {},
   "outputs": [],
   "source": [
    "#eric_data_by_day_total"
   ]
  },
  {
   "cell_type": "markdown",
   "metadata": {},
   "source": [
    "# Idea\n",
    "Reorganise the data in the new frame so that:\n",
    "\n",
    "1. We have counts for each report in separate columns rather than relying on report_id: REPORT_1_COUNT, REPORT_2_COUNT ...\n",
    "2. We have records of all the zero counts, i.e. we have rows for each hour of each day regardless of whether any report requests took place\n",
    "\n",
    "Need to do some filtering by report ID"
   ]
  },
  {
   "cell_type": "markdown",
   "metadata": {},
   "source": [
    "### Create empty dataframe for whole date rage with 0 values "
   ]
  },
  {
   "cell_type": "code",
   "execution_count": 17,
   "metadata": {},
   "outputs": [],
   "source": [
    "dates =  pd.date_range(\"2016/1/1\", \"2016/1/31\")"
   ]
  },
  {
   "cell_type": "code",
   "execution_count": 18,
   "metadata": {},
   "outputs": [],
   "source": [
    "df = pd.DataFrame({\"Date\":dates})\n",
    "# Convert date format\n",
    "df['Date'] = df['Date'].dt.strftime('%d/%m/%Y')\n",
    "rowcount = len(df)"
   ]
  },
  {
   "cell_type": "code",
   "execution_count": 19,
   "metadata": {},
   "outputs": [],
   "source": [
    "# Add columns to hold counts for each report type\n",
    "for i in (1,2,3,4,5,6):\n",
    "    df[\"Report_\"+str(i)] = [0]*rowcount\n",
    "    "
   ]
  },
  {
   "cell_type": "code",
   "execution_count": 20,
   "metadata": {},
   "outputs": [
    {
     "data": {
      "text/html": [
       "<div>\n",
       "<table border=\"1\" class=\"dataframe\">\n",
       "  <thead>\n",
       "    <tr style=\"text-align: right;\">\n",
       "      <th></th>\n",
       "      <th>Date</th>\n",
       "      <th>Report_1</th>\n",
       "      <th>Report_2</th>\n",
       "      <th>Report_3</th>\n",
       "      <th>Report_4</th>\n",
       "      <th>Report_5</th>\n",
       "      <th>Report_6</th>\n",
       "    </tr>\n",
       "  </thead>\n",
       "  <tbody>\n",
       "    <tr>\n",
       "      <th>0</th>\n",
       "      <td>01/01/2016</td>\n",
       "      <td>0</td>\n",
       "      <td>0</td>\n",
       "      <td>0</td>\n",
       "      <td>0</td>\n",
       "      <td>0</td>\n",
       "      <td>0</td>\n",
       "    </tr>\n",
       "    <tr>\n",
       "      <th>1</th>\n",
       "      <td>02/01/2016</td>\n",
       "      <td>0</td>\n",
       "      <td>0</td>\n",
       "      <td>0</td>\n",
       "      <td>0</td>\n",
       "      <td>0</td>\n",
       "      <td>0</td>\n",
       "    </tr>\n",
       "    <tr>\n",
       "      <th>2</th>\n",
       "      <td>03/01/2016</td>\n",
       "      <td>0</td>\n",
       "      <td>0</td>\n",
       "      <td>0</td>\n",
       "      <td>0</td>\n",
       "      <td>0</td>\n",
       "      <td>0</td>\n",
       "    </tr>\n",
       "    <tr>\n",
       "      <th>3</th>\n",
       "      <td>04/01/2016</td>\n",
       "      <td>0</td>\n",
       "      <td>0</td>\n",
       "      <td>0</td>\n",
       "      <td>0</td>\n",
       "      <td>0</td>\n",
       "      <td>0</td>\n",
       "    </tr>\n",
       "    <tr>\n",
       "      <th>4</th>\n",
       "      <td>05/01/2016</td>\n",
       "      <td>0</td>\n",
       "      <td>0</td>\n",
       "      <td>0</td>\n",
       "      <td>0</td>\n",
       "      <td>0</td>\n",
       "      <td>0</td>\n",
       "    </tr>\n",
       "    <tr>\n",
       "      <th>5</th>\n",
       "      <td>06/01/2016</td>\n",
       "      <td>0</td>\n",
       "      <td>0</td>\n",
       "      <td>0</td>\n",
       "      <td>0</td>\n",
       "      <td>0</td>\n",
       "      <td>0</td>\n",
       "    </tr>\n",
       "    <tr>\n",
       "      <th>6</th>\n",
       "      <td>07/01/2016</td>\n",
       "      <td>0</td>\n",
       "      <td>0</td>\n",
       "      <td>0</td>\n",
       "      <td>0</td>\n",
       "      <td>0</td>\n",
       "      <td>0</td>\n",
       "    </tr>\n",
       "    <tr>\n",
       "      <th>7</th>\n",
       "      <td>08/01/2016</td>\n",
       "      <td>0</td>\n",
       "      <td>0</td>\n",
       "      <td>0</td>\n",
       "      <td>0</td>\n",
       "      <td>0</td>\n",
       "      <td>0</td>\n",
       "    </tr>\n",
       "    <tr>\n",
       "      <th>8</th>\n",
       "      <td>09/01/2016</td>\n",
       "      <td>0</td>\n",
       "      <td>0</td>\n",
       "      <td>0</td>\n",
       "      <td>0</td>\n",
       "      <td>0</td>\n",
       "      <td>0</td>\n",
       "    </tr>\n",
       "    <tr>\n",
       "      <th>9</th>\n",
       "      <td>10/01/2016</td>\n",
       "      <td>0</td>\n",
       "      <td>0</td>\n",
       "      <td>0</td>\n",
       "      <td>0</td>\n",
       "      <td>0</td>\n",
       "      <td>0</td>\n",
       "    </tr>\n",
       "    <tr>\n",
       "      <th>10</th>\n",
       "      <td>11/01/2016</td>\n",
       "      <td>0</td>\n",
       "      <td>0</td>\n",
       "      <td>0</td>\n",
       "      <td>0</td>\n",
       "      <td>0</td>\n",
       "      <td>0</td>\n",
       "    </tr>\n",
       "    <tr>\n",
       "      <th>11</th>\n",
       "      <td>12/01/2016</td>\n",
       "      <td>0</td>\n",
       "      <td>0</td>\n",
       "      <td>0</td>\n",
       "      <td>0</td>\n",
       "      <td>0</td>\n",
       "      <td>0</td>\n",
       "    </tr>\n",
       "    <tr>\n",
       "      <th>12</th>\n",
       "      <td>13/01/2016</td>\n",
       "      <td>0</td>\n",
       "      <td>0</td>\n",
       "      <td>0</td>\n",
       "      <td>0</td>\n",
       "      <td>0</td>\n",
       "      <td>0</td>\n",
       "    </tr>\n",
       "    <tr>\n",
       "      <th>13</th>\n",
       "      <td>14/01/2016</td>\n",
       "      <td>0</td>\n",
       "      <td>0</td>\n",
       "      <td>0</td>\n",
       "      <td>0</td>\n",
       "      <td>0</td>\n",
       "      <td>0</td>\n",
       "    </tr>\n",
       "    <tr>\n",
       "      <th>14</th>\n",
       "      <td>15/01/2016</td>\n",
       "      <td>0</td>\n",
       "      <td>0</td>\n",
       "      <td>0</td>\n",
       "      <td>0</td>\n",
       "      <td>0</td>\n",
       "      <td>0</td>\n",
       "    </tr>\n",
       "    <tr>\n",
       "      <th>15</th>\n",
       "      <td>16/01/2016</td>\n",
       "      <td>0</td>\n",
       "      <td>0</td>\n",
       "      <td>0</td>\n",
       "      <td>0</td>\n",
       "      <td>0</td>\n",
       "      <td>0</td>\n",
       "    </tr>\n",
       "    <tr>\n",
       "      <th>16</th>\n",
       "      <td>17/01/2016</td>\n",
       "      <td>0</td>\n",
       "      <td>0</td>\n",
       "      <td>0</td>\n",
       "      <td>0</td>\n",
       "      <td>0</td>\n",
       "      <td>0</td>\n",
       "    </tr>\n",
       "    <tr>\n",
       "      <th>17</th>\n",
       "      <td>18/01/2016</td>\n",
       "      <td>0</td>\n",
       "      <td>0</td>\n",
       "      <td>0</td>\n",
       "      <td>0</td>\n",
       "      <td>0</td>\n",
       "      <td>0</td>\n",
       "    </tr>\n",
       "    <tr>\n",
       "      <th>18</th>\n",
       "      <td>19/01/2016</td>\n",
       "      <td>0</td>\n",
       "      <td>0</td>\n",
       "      <td>0</td>\n",
       "      <td>0</td>\n",
       "      <td>0</td>\n",
       "      <td>0</td>\n",
       "    </tr>\n",
       "    <tr>\n",
       "      <th>19</th>\n",
       "      <td>20/01/2016</td>\n",
       "      <td>0</td>\n",
       "      <td>0</td>\n",
       "      <td>0</td>\n",
       "      <td>0</td>\n",
       "      <td>0</td>\n",
       "      <td>0</td>\n",
       "    </tr>\n",
       "    <tr>\n",
       "      <th>20</th>\n",
       "      <td>21/01/2016</td>\n",
       "      <td>0</td>\n",
       "      <td>0</td>\n",
       "      <td>0</td>\n",
       "      <td>0</td>\n",
       "      <td>0</td>\n",
       "      <td>0</td>\n",
       "    </tr>\n",
       "    <tr>\n",
       "      <th>21</th>\n",
       "      <td>22/01/2016</td>\n",
       "      <td>0</td>\n",
       "      <td>0</td>\n",
       "      <td>0</td>\n",
       "      <td>0</td>\n",
       "      <td>0</td>\n",
       "      <td>0</td>\n",
       "    </tr>\n",
       "    <tr>\n",
       "      <th>22</th>\n",
       "      <td>23/01/2016</td>\n",
       "      <td>0</td>\n",
       "      <td>0</td>\n",
       "      <td>0</td>\n",
       "      <td>0</td>\n",
       "      <td>0</td>\n",
       "      <td>0</td>\n",
       "    </tr>\n",
       "    <tr>\n",
       "      <th>23</th>\n",
       "      <td>24/01/2016</td>\n",
       "      <td>0</td>\n",
       "      <td>0</td>\n",
       "      <td>0</td>\n",
       "      <td>0</td>\n",
       "      <td>0</td>\n",
       "      <td>0</td>\n",
       "    </tr>\n",
       "    <tr>\n",
       "      <th>24</th>\n",
       "      <td>25/01/2016</td>\n",
       "      <td>0</td>\n",
       "      <td>0</td>\n",
       "      <td>0</td>\n",
       "      <td>0</td>\n",
       "      <td>0</td>\n",
       "      <td>0</td>\n",
       "    </tr>\n",
       "    <tr>\n",
       "      <th>25</th>\n",
       "      <td>26/01/2016</td>\n",
       "      <td>0</td>\n",
       "      <td>0</td>\n",
       "      <td>0</td>\n",
       "      <td>0</td>\n",
       "      <td>0</td>\n",
       "      <td>0</td>\n",
       "    </tr>\n",
       "    <tr>\n",
       "      <th>26</th>\n",
       "      <td>27/01/2016</td>\n",
       "      <td>0</td>\n",
       "      <td>0</td>\n",
       "      <td>0</td>\n",
       "      <td>0</td>\n",
       "      <td>0</td>\n",
       "      <td>0</td>\n",
       "    </tr>\n",
       "    <tr>\n",
       "      <th>27</th>\n",
       "      <td>28/01/2016</td>\n",
       "      <td>0</td>\n",
       "      <td>0</td>\n",
       "      <td>0</td>\n",
       "      <td>0</td>\n",
       "      <td>0</td>\n",
       "      <td>0</td>\n",
       "    </tr>\n",
       "    <tr>\n",
       "      <th>28</th>\n",
       "      <td>29/01/2016</td>\n",
       "      <td>0</td>\n",
       "      <td>0</td>\n",
       "      <td>0</td>\n",
       "      <td>0</td>\n",
       "      <td>0</td>\n",
       "      <td>0</td>\n",
       "    </tr>\n",
       "    <tr>\n",
       "      <th>29</th>\n",
       "      <td>30/01/2016</td>\n",
       "      <td>0</td>\n",
       "      <td>0</td>\n",
       "      <td>0</td>\n",
       "      <td>0</td>\n",
       "      <td>0</td>\n",
       "      <td>0</td>\n",
       "    </tr>\n",
       "    <tr>\n",
       "      <th>30</th>\n",
       "      <td>31/01/2016</td>\n",
       "      <td>0</td>\n",
       "      <td>0</td>\n",
       "      <td>0</td>\n",
       "      <td>0</td>\n",
       "      <td>0</td>\n",
       "      <td>0</td>\n",
       "    </tr>\n",
       "  </tbody>\n",
       "</table>\n",
       "</div>"
      ],
      "text/plain": [
       "          Date  Report_1  Report_2  Report_3  Report_4  Report_5  Report_6\n",
       "0   01/01/2016         0         0         0         0         0         0\n",
       "1   02/01/2016         0         0         0         0         0         0\n",
       "2   03/01/2016         0         0         0         0         0         0\n",
       "3   04/01/2016         0         0         0         0         0         0\n",
       "4   05/01/2016         0         0         0         0         0         0\n",
       "5   06/01/2016         0         0         0         0         0         0\n",
       "6   07/01/2016         0         0         0         0         0         0\n",
       "7   08/01/2016         0         0         0         0         0         0\n",
       "8   09/01/2016         0         0         0         0         0         0\n",
       "9   10/01/2016         0         0         0         0         0         0\n",
       "10  11/01/2016         0         0         0         0         0         0\n",
       "11  12/01/2016         0         0         0         0         0         0\n",
       "12  13/01/2016         0         0         0         0         0         0\n",
       "13  14/01/2016         0         0         0         0         0         0\n",
       "14  15/01/2016         0         0         0         0         0         0\n",
       "15  16/01/2016         0         0         0         0         0         0\n",
       "16  17/01/2016         0         0         0         0         0         0\n",
       "17  18/01/2016         0         0         0         0         0         0\n",
       "18  19/01/2016         0         0         0         0         0         0\n",
       "19  20/01/2016         0         0         0         0         0         0\n",
       "20  21/01/2016         0         0         0         0         0         0\n",
       "21  22/01/2016         0         0         0         0         0         0\n",
       "22  23/01/2016         0         0         0         0         0         0\n",
       "23  24/01/2016         0         0         0         0         0         0\n",
       "24  25/01/2016         0         0         0         0         0         0\n",
       "25  26/01/2016         0         0         0         0         0         0\n",
       "26  27/01/2016         0         0         0         0         0         0\n",
       "27  28/01/2016         0         0         0         0         0         0\n",
       "28  29/01/2016         0         0         0         0         0         0\n",
       "29  30/01/2016         0         0         0         0         0         0\n",
       "30  31/01/2016         0         0         0         0         0         0"
      ]
     },
     "execution_count": 20,
     "metadata": {},
     "output_type": "execute_result"
    }
   ],
   "source": [
    "df"
   ]
  },
  {
   "cell_type": "code",
   "execution_count": 21,
   "metadata": {},
   "outputs": [
    {
     "data": {
      "text/plain": [
       "[0, 0, 0, 0, 0]"
      ]
     },
     "execution_count": 21,
     "metadata": {},
     "output_type": "execute_result"
    }
   ],
   "source": [
    "[0]*5"
   ]
  },
  {
   "cell_type": "code",
   "execution_count": null,
   "metadata": {},
   "outputs": [],
   "source": []
  }
 ],
 "metadata": {
  "kernelspec": {
   "display_name": "Python 2",
   "language": "python",
   "name": "python2"
  },
  "language_info": {
   "codemirror_mode": {
    "name": "ipython",
    "version": 2
   },
   "file_extension": ".py",
   "mimetype": "text/x-python",
   "name": "python",
   "nbconvert_exporter": "python",
   "pygments_lexer": "ipython2",
   "version": "2.7.12"
  }
 },
 "nbformat": 4,
 "nbformat_minor": 2
}
