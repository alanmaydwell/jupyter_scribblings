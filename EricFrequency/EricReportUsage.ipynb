{
 "cells": [
  {
   "cell_type": "markdown",
   "metadata": {},
   "source": [
    "# Eric Report Usage\n",
    "\n",
    "***Note to use this notebook Python, Jupyter Notebook, pandas and mathplotlib are required. Jump server 140 has all these.***"
   ]
  },
  {
   "cell_type": "markdown",
   "metadata": {},
   "source": [
    "### Notebook Config\n",
    "- Import pandas\n",
    "- Tweak for graph display"
   ]
  },
  {
   "cell_type": "code",
   "execution_count": 1,
   "metadata": {},
   "outputs": [],
   "source": [
    "import pandas as pd\n",
    "%matplotlib inline"
   ]
  },
  {
   "cell_type": "markdown",
   "metadata": {},
   "source": [
    "### Sourcing The Data\n",
    "\n",
    "Grab some report usage data from Eric database and export to tsv file, **eric_report_use.tsv**\n",
    "```\n",
    "select *  from report_usage \n",
    "where date_requested between '21-JAN-2016' and '31-JAN-2016'\n",
    "order by date_requested, hour_requested\n",
    "```\n",
    "*Note with right Oracle Instant Client setup we should be able to run the query directly from this notebook instead*"
   ]
  },
  {
   "cell_type": "markdown",
   "metadata": {},
   "source": [
    "**Read data into a pandas dataframe**"
   ]
  },
  {
   "cell_type": "code",
   "execution_count": 2,
   "metadata": {},
   "outputs": [],
   "source": [
    "csv_file = \"eric_report_use.tsv\"\n",
    "eric_data = pd.read_csv(csv_file, sep='\\t', skiprows=0)"
   ]
  },
  {
   "cell_type": "markdown",
   "metadata": {},
   "source": [
    "### Experiment - extract results for just one report type"
   ]
  },
  {
   "cell_type": "code",
   "execution_count": 3,
   "metadata": {},
   "outputs": [],
   "source": [
    "# Extract rows with report_id ==1\n",
    "# Also just keep three columns\n",
    "report1_data = eric_data.loc[eric_data['REPORT_ID'] == 1, [\"DATE_REQUESTED\", \"HOUR_REQUESTED\", \"NO_OF_REQUESTS\"]]"
   ]
  },
  {
   "cell_type": "code",
   "execution_count": 4,
   "metadata": {
    "scrolled": true
   },
   "outputs": [
    {
     "data": {
      "text/plain": [
       "DATE_REQUESTED\n",
       "21/01/2016    19\n",
       "22/01/2016     8\n",
       "23/01/2016     4\n",
       "25/01/2016    21\n",
       "26/01/2016    21\n",
       "27/01/2016    14\n",
       "28/01/2016     6\n",
       "29/01/2016    14\n",
       "30/01/2016     1\n",
       "Name: NO_OF_REQUESTS, dtype: int64"
      ]
     },
     "metadata": {},
     "output_type": "display_data"
    }
   ],
   "source": [
    "#Lets get rid of by-hour results - can use groupby method\n",
    "report1_daily = report1_data.groupby(\"DATE_REQUESTED\").sum().NO_OF_REQUESTS\n",
    "display(report1_daily)"
   ]
  },
  {
   "cell_type": "markdown",
   "metadata": {},
   "source": [
    "#### The above worked - let's make a function to do the same with any report"
   ]
  },
  {
   "cell_type": "code",
   "execution_count": 5,
   "metadata": {},
   "outputs": [],
   "source": [
    "def daily(df, report_id=1):\n",
    "    \"\"\"Extact results for single report from report_usage dataframe\"\"\"\n",
    "    report_data = df.loc[df['REPORT_ID'] == report_id, [\"DATE_REQUESTED\", \"HOUR_REQUESTED\", \"NO_OF_REQUESTS\"]]\n",
    "    report_daily = report_data.groupby(\"DATE_REQUESTED\").sum().NO_OF_REQUESTS\n",
    "    return report_daily"
   ]
  },
  {
   "cell_type": "markdown",
   "metadata": {},
   "source": [
    "#### Get daily figures for each report"
   ]
  },
  {
   "cell_type": "code",
   "execution_count": 6,
   "metadata": {},
   "outputs": [],
   "source": [
    "# Find the reports actually present in the data\n",
    "reports_present = eric_data[\"REPORT_ID\"].unique()\n",
    "reports_present.sort()"
   ]
  },
  {
   "cell_type": "code",
   "execution_count": 7,
   "metadata": {},
   "outputs": [],
   "source": [
    "# Store the figures in dictionary\n",
    "daily_figures = {}\n",
    "for report_id in reports_present:\n",
    "    temp = daily(eric_data, report_id)\n",
    "    # Define heading for this report\n",
    "    heading = \"Report_\"+str(report_id)\n",
    "    # Rename the series index to be just \"Date\"\n",
    "    temp.index.name = \"Date\"\n",
    "    # Rename the series to match the heading \n",
    "    temp.name = heading\n",
    "    daily_figures[heading] = temp"
   ]
  },
  {
   "cell_type": "code",
   "execution_count": 8,
   "metadata": {},
   "outputs": [
    {
     "data": {
      "image/png": "[encoded data removed]",
      "text/plain": [
       "<matplotlib.figure.Figure at 0x7f48644cb2d0>"
      ]
     },
     "metadata": {},
     "output_type": "display_data"
    }
   ],
   "source": [
    "# Plot the results rot=90 sets x-axis text angle\n",
    "for k, v in daily_figures.iteritems():\n",
    "    v.plot(rot=90)"
   ]
  },
  {
   "cell_type": "markdown",
   "metadata": {},
   "source": [
    "Above bad as 0 values excluded, so results misleading"
   ]
  },
  {
   "cell_type": "markdown",
   "metadata": {},
   "source": [
    "# Idea to include 0 values\n",
    "\n",
    "Reports above not great because data doesn't include any zero values for days/times when no reports requested. Also would be more convenient if the counts for each report are recorded in separate columns.\n",
    "\n",
    "Reorganise the data in the new frame so that:\n",
    "\n",
    "1. We have counts for each report in separate columns rather than relying on report_id: REPORT_1_COUNT, REPORT_2_COUNT ...\n",
    "2. We have records of all the zero counts, i.e. we have rows for each hour of each day regardless of whether any report requests took place\n",
    "\n",
    "Need to do some filtering by report ID"
   ]
  },
  {
   "cell_type": "markdown",
   "metadata": {},
   "source": [
    "### Create empty dataframe for whole date rage with initial 0 counts"
   ]
  },
  {
   "cell_type": "code",
   "execution_count": 29,
   "metadata": {},
   "outputs": [],
   "source": [
    "# handy - generates dates for each day from specified start to end\n",
    "##dates =  pd.date_range(\"2016/1/1\", \"2016/1/31\")\n",
    "\n",
    "# Get first a last dates from the data - nb need iloc to get row by position\n",
    "first_date = eric_data[\"DATE_REQUESTED\"].iloc[0]\n",
    "last_date = eric_data[\"DATE_REQUESTED\"].iloc[-1]\n",
    "\n",
    "# Getting it to use dates extracted from the data - need to do format conversion for this\n",
    "fd = pd.to_datetime(first_date, dayfirst=True)\n",
    "ld = pd.to_datetime(last_date, dayfirst=True)\n",
    "dates = pd.date_range(fd, ld)\n",
    "\n",
    "# Create dataframe with these dates \n",
    "df = pd.DataFrame({\"Date\":dates})\n",
    "# Convert date format back to d/m/y in the frame\n",
    "df['Date'] = df['Date'].dt.strftime('%d/%m/%Y')\n",
    "\n",
    "\n",
    "#Set date to be the index\n",
    "df.set_index('Date', inplace=True)"
   ]
  },
  {
   "cell_type": "code",
   "execution_count": 30,
   "metadata": {},
   "outputs": [],
   "source": [
    "# Add columns to hold counts for each report type\n",
    "# and fill with 0 values\n",
    "rowcount = len(df)\n",
    "for i in (0, 1, 2, 3, 4, 5):\n",
    "    df[\"Report_\"+str(i+1)] = [0]*rowcount\n",
    "    "
   ]
  },
  {
   "cell_type": "markdown",
   "metadata": {},
   "source": [
    "Check empty frame looks OK (just first few rows)"
   ]
  },
  {
   "cell_type": "code",
   "execution_count": 22,
   "metadata": {},
   "outputs": [
    {
     "data": {
      "text/html": [
       "<div>\n",
       "<table border=\"1\" class=\"dataframe\">\n",
       "  <thead>\n",
       "    <tr style=\"text-align: right;\">\n",
       "      <th></th>\n",
       "      <th>Report_1</th>\n",
       "      <th>Report_2</th>\n",
       "      <th>Report_3</th>\n",
       "      <th>Report_4</th>\n",
       "      <th>Report_5</th>\n",
       "      <th>Report_6</th>\n",
       "    </tr>\n",
       "    <tr>\n",
       "      <th>Date</th>\n",
       "      <th></th>\n",
       "      <th></th>\n",
       "      <th></th>\n",
       "      <th></th>\n",
       "      <th></th>\n",
       "      <th></th>\n",
       "    </tr>\n",
       "  </thead>\n",
       "  <tbody>\n",
       "    <tr>\n",
       "      <th>21/01/2016</th>\n",
       "      <td>0</td>\n",
       "      <td>0</td>\n",
       "      <td>0</td>\n",
       "      <td>0</td>\n",
       "      <td>0</td>\n",
       "      <td>0</td>\n",
       "    </tr>\n",
       "    <tr>\n",
       "      <th>22/01/2016</th>\n",
       "      <td>0</td>\n",
       "      <td>0</td>\n",
       "      <td>0</td>\n",
       "      <td>0</td>\n",
       "      <td>0</td>\n",
       "      <td>0</td>\n",
       "    </tr>\n",
       "    <tr>\n",
       "      <th>23/01/2016</th>\n",
       "      <td>0</td>\n",
       "      <td>0</td>\n",
       "      <td>0</td>\n",
       "      <td>0</td>\n",
       "      <td>0</td>\n",
       "      <td>0</td>\n",
       "    </tr>\n",
       "    <tr>\n",
       "      <th>24/01/2016</th>\n",
       "      <td>0</td>\n",
       "      <td>0</td>\n",
       "      <td>0</td>\n",
       "      <td>0</td>\n",
       "      <td>0</td>\n",
       "      <td>0</td>\n",
       "    </tr>\n",
       "    <tr>\n",
       "      <th>25/01/2016</th>\n",
       "      <td>0</td>\n",
       "      <td>0</td>\n",
       "      <td>0</td>\n",
       "      <td>0</td>\n",
       "      <td>0</td>\n",
       "      <td>0</td>\n",
       "    </tr>\n",
       "  </tbody>\n",
       "</table>\n",
       "</div>"
      ],
      "text/plain": [
       "            Report_1  Report_2  Report_3  Report_4  Report_5  Report_6\n",
       "Date                                                                  \n",
       "21/01/2016         0         0         0         0         0         0\n",
       "22/01/2016         0         0         0         0         0         0\n",
       "23/01/2016         0         0         0         0         0         0\n",
       "24/01/2016         0         0         0         0         0         0\n",
       "25/01/2016         0         0         0         0         0         0"
      ]
     },
     "execution_count": 22,
     "metadata": {},
     "output_type": "execute_result"
    }
   ],
   "source": [
    "df.head()"
   ]
  },
  {
   "cell_type": "markdown",
   "metadata": {},
   "source": [
    "**Now merge the extracted daily figures into the right places in the above**"
   ]
  },
  {
   "cell_type": "code",
   "execution_count": 38,
   "metadata": {},
   "outputs": [
    {
     "data": {
      "text/html": [
       "<div>\n",
       "<table border=\"1\" class=\"dataframe\">\n",
       "  <thead>\n",
       "    <tr style=\"text-align: right;\">\n",
       "      <th></th>\n",
       "      <th>Report_1</th>\n",
       "      <th>Report_2</th>\n",
       "      <th>Report_3</th>\n",
       "      <th>Report_4</th>\n",
       "      <th>Report_5</th>\n",
       "      <th>Report_6</th>\n",
       "    </tr>\n",
       "    <tr>\n",
       "      <th>Date</th>\n",
       "      <th></th>\n",
       "      <th></th>\n",
       "      <th></th>\n",
       "      <th></th>\n",
       "      <th></th>\n",
       "      <th></th>\n",
       "    </tr>\n",
       "  </thead>\n",
       "  <tbody>\n",
       "    <tr>\n",
       "      <th>21/01/2016</th>\n",
       "      <td>19</td>\n",
       "      <td>66</td>\n",
       "      <td>41</td>\n",
       "      <td>0</td>\n",
       "      <td>0</td>\n",
       "      <td>7</td>\n",
       "    </tr>\n",
       "    <tr>\n",
       "      <th>22/01/2016</th>\n",
       "      <td>8</td>\n",
       "      <td>37</td>\n",
       "      <td>24</td>\n",
       "      <td>0</td>\n",
       "      <td>0</td>\n",
       "      <td>3</td>\n",
       "    </tr>\n",
       "    <tr>\n",
       "      <th>23/01/2016</th>\n",
       "      <td>4</td>\n",
       "      <td>9</td>\n",
       "      <td>5</td>\n",
       "      <td>0</td>\n",
       "      <td>0</td>\n",
       "      <td>1</td>\n",
       "    </tr>\n",
       "    <tr>\n",
       "      <th>24/01/2016</th>\n",
       "      <td>0</td>\n",
       "      <td>4</td>\n",
       "      <td>2</td>\n",
       "      <td>0</td>\n",
       "      <td>0</td>\n",
       "      <td>0</td>\n",
       "    </tr>\n",
       "    <tr>\n",
       "      <th>25/01/2016</th>\n",
       "      <td>21</td>\n",
       "      <td>49</td>\n",
       "      <td>27</td>\n",
       "      <td>0</td>\n",
       "      <td>0</td>\n",
       "      <td>0</td>\n",
       "    </tr>\n",
       "    <tr>\n",
       "      <th>26/01/2016</th>\n",
       "      <td>21</td>\n",
       "      <td>56</td>\n",
       "      <td>35</td>\n",
       "      <td>0</td>\n",
       "      <td>0</td>\n",
       "      <td>3</td>\n",
       "    </tr>\n",
       "    <tr>\n",
       "      <th>27/01/2016</th>\n",
       "      <td>14</td>\n",
       "      <td>32</td>\n",
       "      <td>27</td>\n",
       "      <td>0</td>\n",
       "      <td>0</td>\n",
       "      <td>3</td>\n",
       "    </tr>\n",
       "    <tr>\n",
       "      <th>28/01/2016</th>\n",
       "      <td>6</td>\n",
       "      <td>43</td>\n",
       "      <td>25</td>\n",
       "      <td>0</td>\n",
       "      <td>0</td>\n",
       "      <td>4</td>\n",
       "    </tr>\n",
       "    <tr>\n",
       "      <th>29/01/2016</th>\n",
       "      <td>14</td>\n",
       "      <td>42</td>\n",
       "      <td>37</td>\n",
       "      <td>0</td>\n",
       "      <td>0</td>\n",
       "      <td>5</td>\n",
       "    </tr>\n",
       "    <tr>\n",
       "      <th>30/01/2016</th>\n",
       "      <td>1</td>\n",
       "      <td>9</td>\n",
       "      <td>8</td>\n",
       "      <td>0</td>\n",
       "      <td>0</td>\n",
       "      <td>0</td>\n",
       "    </tr>\n",
       "    <tr>\n",
       "      <th>31/01/2016</th>\n",
       "      <td>0</td>\n",
       "      <td>3</td>\n",
       "      <td>4</td>\n",
       "      <td>0</td>\n",
       "      <td>0</td>\n",
       "      <td>0</td>\n",
       "    </tr>\n",
       "  </tbody>\n",
       "</table>\n",
       "</div>"
      ],
      "text/plain": [
       "            Report_1  Report_2  Report_3  Report_4  Report_5  Report_6\n",
       "Date                                                                  \n",
       "21/01/2016        19        66        41         0         0         7\n",
       "22/01/2016         8        37        24         0         0         3\n",
       "23/01/2016         4         9         5         0         0         1\n",
       "24/01/2016         0         4         2         0         0         0\n",
       "25/01/2016        21        49        27         0         0         0\n",
       "26/01/2016        21        56        35         0         0         3\n",
       "27/01/2016        14        32        27         0         0         3\n",
       "28/01/2016         6        43        25         0         0         4\n",
       "29/01/2016        14        42        37         0         0         5\n",
       "30/01/2016         1         9         8         0         0         0\n",
       "31/01/2016         0         3         4         0         0         0"
      ]
     },
     "metadata": {},
     "output_type": "display_data"
    }
   ],
   "source": [
    "# Merge the daily figures into empty frame from above\n",
    "# This works - simple as this!\n",
    "for k, v in daily_figures.iteritems():\n",
    "    df.update(v)\n",
    "\n",
    "display(df)"
   ]
  },
  {
   "cell_type": "code",
   "execution_count": 37,
   "metadata": {},
   "outputs": [
    {
     "data": {
      "text/plain": [
       "<matplotlib.axes._subplots.AxesSubplot at 0x7f4864125d50>"
      ]
     },
     "execution_count": 37,
     "metadata": {},
     "output_type": "execute_result"
    },
    {
     "data": {
      "image/png": "[encoded data removed]",
      "text/plain": [
       "<matplotlib.figure.Figure at 0x7f4864054a90>"
      ]
     },
     "metadata": {},
     "output_type": "display_data"
    }
   ],
   "source": [
    "df.plot(title=\"Eric Report Daily Usage\", figsize=(10,6), marker='.')"
   ]
  },
  {
   "cell_type": "markdown",
   "metadata": {},
   "source": [
    "Info on setup\n",
    "\n",
    "Use https://pandas.pydata.org/pandas-docs/stable/generated/pandas.DataFrame.update.html  ?    \n",
    "May need to change daily figures to be dataframes themselves.\n",
    "\n",
    "https://pandas.pydata.org/pandas-docs/stable/merging.html"
   ]
  }
 ],
 "metadata": {
  "kernelspec": {
   "display_name": "Python 2",
   "language": "python",
   "name": "python2"
  },
  "language_info": {
   "codemirror_mode": {
    "name": "ipython",
    "version": 2
   },
   "file_extension": ".py",
   "mimetype": "text/x-python",
   "name": "python",
   "nbconvert_exporter": "python",
   "pygments_lexer": "ipython2",
   "version": "2.7.12"
  }
 },
 "nbformat": 4,
 "nbformat_minor": 2
}
