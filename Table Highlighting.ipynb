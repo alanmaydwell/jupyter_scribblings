{
 "cells": [
  {
   "cell_type": "markdown",
   "metadata": {},
   "source": [
    "### Create pandas dataframe"
   ]
  },
  {
   "cell_type": "code",
   "execution_count": 5,
   "metadata": {},
   "outputs": [
    {
     "data": {
      "text/html": [
       "<div>\n",
       "<style>\n",
       "    .dataframe thead tr:only-child th {\n",
       "        text-align: right;\n",
       "    }\n",
       "\n",
       "    .dataframe thead th {\n",
       "        text-align: left;\n",
       "    }\n",
       "\n",
       "    .dataframe tbody tr th {\n",
       "        vertical-align: top;\n",
       "    }\n",
       "</style>\n",
       "<table border=\"1\" class=\"dataframe\">\n",
       "  <thead>\n",
       "    <tr style=\"text-align: right;\">\n",
       "      <th></th>\n",
       "      <th>one</th>\n",
       "      <th>three</th>\n",
       "      <th>two</th>\n",
       "    </tr>\n",
       "  </thead>\n",
       "  <tbody>\n",
       "    <tr>\n",
       "      <th>0</th>\n",
       "      <td>1</td>\n",
       "      <td>3</td>\n",
       "      <td>2</td>\n",
       "    </tr>\n",
       "    <tr>\n",
       "      <th>1</th>\n",
       "      <td>2</td>\n",
       "      <td>6</td>\n",
       "      <td>4</td>\n",
       "    </tr>\n",
       "    <tr>\n",
       "      <th>2</th>\n",
       "      <td>3</td>\n",
       "      <td>-9</td>\n",
       "      <td>-6</td>\n",
       "    </tr>\n",
       "    <tr>\n",
       "      <th>3</th>\n",
       "      <td>4</td>\n",
       "      <td>-12</td>\n",
       "      <td>8</td>\n",
       "    </tr>\n",
       "    <tr>\n",
       "      <th>4</th>\n",
       "      <td>n</td>\n",
       "      <td>z</td>\n",
       "      <td>a</td>\n",
       "    </tr>\n",
       "  </tbody>\n",
       "</table>\n",
       "</div>"
      ],
      "text/plain": [
       "  one three two\n",
       "0   1     3   2\n",
       "1   2     6   4\n",
       "2   3    -9  -6\n",
       "3   4   -12   8\n",
       "4   n     z   a"
      ]
     },
     "metadata": {},
     "output_type": "display_data"
    }
   ],
   "source": [
    "import pandas as pd\n",
    "\n",
    "data = {\n",
    "'one':  [1., 2.,  3.,   4., \"n\"],\n",
    "'two':  [2., 4., -6.,   8., \"a\"],\n",
    "'three':[3., 6., -9., -12., \"z\"]    \n",
    "}\n",
    "\n",
    "#Create a dataframe and display it\n",
    "df = pd.DataFrame(data)\n",
    "display(df)"
   ]
  },
  {
   "cell_type": "markdown",
   "metadata": {},
   "source": [
    "### Setup conditional colour highlighting"
   ]
  },
  {
   "cell_type": "code",
   "execution_count": 20,
   "metadata": {
    "collapsed": true
   },
   "outputs": [],
   "source": [
    "def highlight_conditions(val):\n",
    "    \"\"\"\n",
    "    Colour selection function intended to be used with\n",
    "    df.style.applymap to apply conditional colours to \n",
    "    dataframe values.\n",
    "    Based on info from https://pandas.pydata.org/pandas-docs/stable/style.html\n",
    "    \"\"\"\n",
    "    #Default colour\n",
    "    colour = 'black'\n",
    "    \n",
    "    #Conditional colours\n",
    "    if val<0: colour = 'red'\n",
    "    elif val == \"z\": colour = 'orange'\n",
    "    \n",
    "    #Create the and return the \n",
    "    #css element that df.style.applymap uses\n",
    "    return 'color: %s' % colour"
   ]
  },
  {
   "cell_type": "markdown",
   "metadata": {},
   "source": [
    "### Create highlighted version and display it"
   ]
  },
  {
   "cell_type": "code",
   "execution_count": 4,
   "metadata": {},
   "outputs": [
    {
     "data": {
      "text/html": [
       "<style  type=\"text/css\" >\n",
       "    #T_6f5f79f0_9b1f_11e7_8c15_acb57d4e1a14row0_col0 {\n",
       "            color:  black;\n",
       "        }    #T_6f5f79f0_9b1f_11e7_8c15_acb57d4e1a14row0_col1 {\n",
       "            color:  black;\n",
       "        }    #T_6f5f79f0_9b1f_11e7_8c15_acb57d4e1a14row0_col2 {\n",
       "            color:  black;\n",
       "        }    #T_6f5f79f0_9b1f_11e7_8c15_acb57d4e1a14row1_col0 {\n",
       "            color:  black;\n",
       "        }    #T_6f5f79f0_9b1f_11e7_8c15_acb57d4e1a14row1_col1 {\n",
       "            color:  black;\n",
       "        }    #T_6f5f79f0_9b1f_11e7_8c15_acb57d4e1a14row1_col2 {\n",
       "            color:  black;\n",
       "        }    #T_6f5f79f0_9b1f_11e7_8c15_acb57d4e1a14row2_col0 {\n",
       "            color:  black;\n",
       "        }    #T_6f5f79f0_9b1f_11e7_8c15_acb57d4e1a14row2_col1 {\n",
       "            color:  red;\n",
       "        }    #T_6f5f79f0_9b1f_11e7_8c15_acb57d4e1a14row2_col2 {\n",
       "            color:  red;\n",
       "        }    #T_6f5f79f0_9b1f_11e7_8c15_acb57d4e1a14row3_col0 {\n",
       "            color:  black;\n",
       "        }    #T_6f5f79f0_9b1f_11e7_8c15_acb57d4e1a14row3_col1 {\n",
       "            color:  red;\n",
       "        }    #T_6f5f79f0_9b1f_11e7_8c15_acb57d4e1a14row3_col2 {\n",
       "            color:  black;\n",
       "        }    #T_6f5f79f0_9b1f_11e7_8c15_acb57d4e1a14row4_col0 {\n",
       "            color:  black;\n",
       "        }    #T_6f5f79f0_9b1f_11e7_8c15_acb57d4e1a14row4_col1 {\n",
       "            color:  orange;\n",
       "        }    #T_6f5f79f0_9b1f_11e7_8c15_acb57d4e1a14row4_col2 {\n",
       "            color:  black;\n",
       "        }</style>  \n",
       "<table id=\"T_6f5f79f0_9b1f_11e7_8c15_acb57d4e1a14\" > \n",
       "<thead>    <tr> \n",
       "        <th class=\"blank level0\" ></th> \n",
       "        <th class=\"col_heading level0 col0\" >one</th> \n",
       "        <th class=\"col_heading level0 col1\" >three</th> \n",
       "        <th class=\"col_heading level0 col2\" >two</th> \n",
       "    </tr></thead> \n",
       "<tbody>    <tr> \n",
       "        <th id=\"T_6f5f79f0_9b1f_11e7_8c15_acb57d4e1a14level0_row0\" class=\"row_heading level0 row0\" >0</th> \n",
       "        <td id=\"T_6f5f79f0_9b1f_11e7_8c15_acb57d4e1a14row0_col0\" class=\"data row0 col0\" >1</td> \n",
       "        <td id=\"T_6f5f79f0_9b1f_11e7_8c15_acb57d4e1a14row0_col1\" class=\"data row0 col1\" >3</td> \n",
       "        <td id=\"T_6f5f79f0_9b1f_11e7_8c15_acb57d4e1a14row0_col2\" class=\"data row0 col2\" >2</td> \n",
       "    </tr>    <tr> \n",
       "        <th id=\"T_6f5f79f0_9b1f_11e7_8c15_acb57d4e1a14level0_row1\" class=\"row_heading level0 row1\" >1</th> \n",
       "        <td id=\"T_6f5f79f0_9b1f_11e7_8c15_acb57d4e1a14row1_col0\" class=\"data row1 col0\" >2</td> \n",
       "        <td id=\"T_6f5f79f0_9b1f_11e7_8c15_acb57d4e1a14row1_col1\" class=\"data row1 col1\" >6</td> \n",
       "        <td id=\"T_6f5f79f0_9b1f_11e7_8c15_acb57d4e1a14row1_col2\" class=\"data row1 col2\" >4</td> \n",
       "    </tr>    <tr> \n",
       "        <th id=\"T_6f5f79f0_9b1f_11e7_8c15_acb57d4e1a14level0_row2\" class=\"row_heading level0 row2\" >2</th> \n",
       "        <td id=\"T_6f5f79f0_9b1f_11e7_8c15_acb57d4e1a14row2_col0\" class=\"data row2 col0\" >3</td> \n",
       "        <td id=\"T_6f5f79f0_9b1f_11e7_8c15_acb57d4e1a14row2_col1\" class=\"data row2 col1\" >-9</td> \n",
       "        <td id=\"T_6f5f79f0_9b1f_11e7_8c15_acb57d4e1a14row2_col2\" class=\"data row2 col2\" >-6</td> \n",
       "    </tr>    <tr> \n",
       "        <th id=\"T_6f5f79f0_9b1f_11e7_8c15_acb57d4e1a14level0_row3\" class=\"row_heading level0 row3\" >3</th> \n",
       "        <td id=\"T_6f5f79f0_9b1f_11e7_8c15_acb57d4e1a14row3_col0\" class=\"data row3 col0\" >4</td> \n",
       "        <td id=\"T_6f5f79f0_9b1f_11e7_8c15_acb57d4e1a14row3_col1\" class=\"data row3 col1\" >-12</td> \n",
       "        <td id=\"T_6f5f79f0_9b1f_11e7_8c15_acb57d4e1a14row3_col2\" class=\"data row3 col2\" >8</td> \n",
       "    </tr>    <tr> \n",
       "        <th id=\"T_6f5f79f0_9b1f_11e7_8c15_acb57d4e1a14level0_row4\" class=\"row_heading level0 row4\" >4</th> \n",
       "        <td id=\"T_6f5f79f0_9b1f_11e7_8c15_acb57d4e1a14row4_col0\" class=\"data row4 col0\" >n</td> \n",
       "        <td id=\"T_6f5f79f0_9b1f_11e7_8c15_acb57d4e1a14row4_col1\" class=\"data row4 col1\" >z</td> \n",
       "        <td id=\"T_6f5f79f0_9b1f_11e7_8c15_acb57d4e1a14row4_col2\" class=\"data row4 col2\" >a</td> \n",
       "    </tr></tbody> \n",
       "</table> "
      ],
      "text/plain": [
       "<pandas.io.formats.style.Styler at 0x7f51ee2bedd0>"
      ]
     },
     "metadata": {},
     "output_type": "display_data"
    }
   ],
   "source": [
    "highlighted = df.style.applymap(highlight_conditions)\n",
    "display(highlighted)"
   ]
  },
  {
   "cell_type": "code",
   "execution_count": 10,
   "metadata": {},
   "outputs": [
    {
     "name": "stdout",
     "output_type": "stream",
     "text": [
      "one\n",
      "three\n",
      "two\n"
     ]
    }
   ],
   "source": [
    "for column in df:\n",
    "    print column"
   ]
  },
  {
   "cell_type": "code",
   "execution_count": 16,
   "metadata": {},
   "outputs": [
    {
     "name": "stdout",
     "output_type": "stream",
     "text": [
      "Username: cake\n"
     ]
    }
   ],
   "source": [
    "username = raw_input(\"Username: \")"
   ]
  },
  {
   "cell_type": "code",
   "execution_count": 17,
   "metadata": {},
   "outputs": [
    {
     "name": "stdout",
     "output_type": "stream",
     "text": [
      "Password:········\n"
     ]
    }
   ],
   "source": [
    "import getpass\n",
    "password = getpass.getpass(\"Password:\")"
   ]
  },
  {
   "cell_type": "markdown",
   "metadata": {},
   "source": [
    "Hmm\n",
    "https://stackoverflow.com/questions/29464234/compare-python-pandas-dataframes-for-matching-rows"
   ]
  }
 ],
 "metadata": {
  "kernelspec": {
   "display_name": "Python 2",
   "language": "python",
   "name": "python2"
  },
  "language_info": {
   "codemirror_mode": {
    "name": "ipython",
    "version": 2
   },
   "file_extension": ".py",
   "mimetype": "text/x-python",
   "name": "python",
   "nbconvert_exporter": "python",
   "pygments_lexer": "ipython2",
   "version": "2.7.12"
  }
 },
 "nbformat": 4,
 "nbformat_minor": 2
}
