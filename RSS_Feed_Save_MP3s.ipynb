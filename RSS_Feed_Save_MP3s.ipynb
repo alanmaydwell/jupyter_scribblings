{
 "cells": [
  {
   "cell_type": "markdown",
   "metadata": {},
   "source": [
    "# RSS Feed Extract Try\n",
    "Using feedparser and urllib to save audio files from an RSS feed"
   ]
  },
  {
   "cell_type": "code",
   "execution_count": 29,
   "metadata": {},
   "outputs": [],
   "source": [
    "import urllib\n",
    "import feedparser"
   ]
  },
  {
   "cell_type": "code",
   "execution_count": 67,
   "metadata": {},
   "outputs": [
    {
     "name": "stdout",
     "output_type": "stream",
     "text": [
      "Saving 'Ep. 55 - Mouse on the Bonnet'' to Mince-Ep.55-MouseontheBonnet.mp3\n",
      "Saving 'Ep. 54 - Crunch Crunch Ooops'' to Mince-Ep.54-CrunchCrunchOoops.mp3\n"
     ]
    }
   ],
   "source": [
    "def save_rss_podcasts(url, wanted_episodes, filename_start=\"\", save=True):\n",
    "    feed = feedparser.parse(url)\n",
    "    for entry in feed.entries:\n",
    "        title = entry.get(\"title\", \"\")\n",
    "        title_words = title.split(\" \")\n",
    "        \n",
    "        # See if episode number extracted from title matches requested episode\n",
    "        # Depends on episode number being 2nd item in title\n",
    "        if title_words[1] in wanted_episodes:\n",
    "\n",
    "            # Find the links within and extract those concerning audio files\n",
    "            links = entry.get(\"links\", \"\")\n",
    "            audio_links = [l for l in links if l.get(\"type\", \"\") == \"audio/mpeg\"]\n",
    "            # Save each audio file found\n",
    "            for ali, audio_link in enumerate(audio_links):\n",
    "                url = audio_link.get(\"href\", \"\")\n",
    "                if url:\n",
    "                    # Make filename from title but with some character sanitisation\n",
    "                    filename = filename_start + \"\".join([c for c in title if c not in r\"\"\" :\"'\\/!\"\"\"])\n",
    "                    # Extend filename if single episode has multiple files \n",
    "                    if len(audio_links) > 1:\n",
    "                        filename = filename + f\"({ali})\"\n",
    "                    filename = filename + \".mp3\"\n",
    "                    \n",
    "                    if save:\n",
    "                        print(f\"Saving '{title}'' to {filename}\")\n",
    "                        urllib.request.urlretrieve(url, filename)\n",
    "                    else:\n",
    "                        print(f\"Not saving '{title}'' to {filename}\")\n",
    "                else:\n",
    "                    print(\"No mp3 files found for episode:\", title)\n",
    "                    \n",
    "\n",
    "url = \"https://rss.acast.com/athleticomince\"\n",
    "filename_start = \"Mince-\"\n",
    "wanted_episodes = [\"54\", \"55\"]\n",
    "filename_start = \"Mince-\"\n",
    "\n",
    "save_rss_podcasts(url, wanted_episodes, filename_start)\n"
   ]
  },
  {
   "cell_type": "code",
   "execution_count": null,
   "metadata": {},
   "outputs": [],
   "source": []
  }
 ],
 "metadata": {
  "kernelspec": {
   "display_name": "jupyter3",
   "language": "python",
   "name": "jupyter3"
  },
  "language_info": {
   "codemirror_mode": {
    "name": "ipython",
    "version": 3
   },
   "file_extension": ".py",
   "mimetype": "text/x-python",
   "name": "python",
   "nbconvert_exporter": "python",
   "pygments_lexer": "ipython3",
   "version": "3.6.7"
  }
 },
 "nbformat": 4,
 "nbformat_minor": 4
}
