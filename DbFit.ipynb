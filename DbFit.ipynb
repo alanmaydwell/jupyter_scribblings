{
 "cells": [
  {
   "cell_type": "markdown",
   "id": "ac9e7bb9-0e19-4c36-9972-d0368217c111",
   "metadata": {},
   "source": [
    "# Some DbFit for CWA things\n",
    "A few simple utilities that can help with DbFit for CWA.\n",
    "\n",
    "Helps with\n",
    "1. Extracting the test part of a DbFit path, e.g. convert `http://localhost:8085/TestSuite.CwaSuite.UnitSuite.ebiz.database.code.xxlsc_am_validations_pkg` to `TestSuite.CwaSuite.UnitSuite.ebiz.database.code.xxlsc_am_validations_pkg`\n",
    "2. Simple display of DbFit table data by reading from clipboard, making simple conversion to Markdown format, then displaying the Markdown\n",
    "3. Way of creating the folders by invoking the usual Makefile\n"
   ]
  },
  {
   "cell_type": "markdown",
   "id": "97d7b9f9-361f-410b-aab7-8ece37f7a021",
   "metadata": {},
   "source": [
    "## 1 Extract from last /\n",
    "- Reads text from clipboard\n",
    "- Looks for `/`, if found, extract the text from after the `/` and copy this back to the clipboard\n",
    "- Can be used to extract DbFit test details from DbFit URL by removing the `http://localhost:8085/` part, to help with command-line running."
   ]
  },
  {
   "cell_type": "code",
   "execution_count": 13,
   "id": "5062bfd8-fec4-405a-b44c-0bcdb1d096b5",
   "metadata": {},
   "outputs": [
    {
     "name": "stdout",
     "output_type": "stream",
     "text": [
      "Read: http://localhost:8085/TestSuite.CwaSuite.UnitSuite.ebiz.database.code.xxlsc_am_validations_pkg\n",
      "Changes made.\n",
      "Now: TestSuite.CwaSuite.UnitSuite.ebiz.database.code.xxlsc_am_validations_pkg\n",
      "Result copied to clipboard\n"
     ]
    }
   ],
   "source": [
    "import pyperclip\n",
    "\n",
    "extracted = pyperclip.paste()\n",
    "pos = extracted.rfind(\"/\")\n",
    "wanted = extracted[pos+1:]\n",
    "print(\"Read:\", extracted)\n",
    "\n",
    "if wanted != extracted:\n",
    "    pyperclip.copy(wanted)\n",
    "    print(\"Changes made.\")\n",
    "    print(\"Now:\", wanted)\n",
    "    print(\"Result copied to clipboard\")\n",
    "else:\n",
    "    print(\"No changes made.\")"
   ]
  },
  {
   "cell_type": "markdown",
   "id": "cf78cc1d-b19f-48e9-a01b-3e20175bc168",
   "metadata": {},
   "source": [
    "## 2 DbFit table display\n",
    "Crude way of displaying DbFit table.     \n",
    "Works by converting it to Markdown tables by adding `|---` below headings row(s)\n",
    "\n",
    "- Reads data from Clipboard and splits into lines.\n",
    "- Works out the number of columns in each line by counting `|` charaters..\n",
    "- If new column count found, start a new table.\n",
    "- When starting a new table, add a `|---` ... row below its first row.\n",
    "- Use Ipython Markdown to display the result"
   ]
  },
  {
   "cell_type": "code",
   "execution_count": 4,
   "id": "521e52ce-2d37-4b47-9004-348a06cf1fe0",
   "metadata": {},
   "outputs": [],
   "source": [
    "from IPython.display import display, Markdown\n",
    "import pyperclip"
   ]
  },
  {
   "cell_type": "code",
   "execution_count": 8,
   "id": "c09b3cf9-c0ac-4a19-a10d-6e3a0f398de8",
   "metadata": {},
   "outputs": [
    {
     "data": {
      "text/markdown": [
       "\n",
       "|Execute Procedure|apps.xxlsc_am_validations_pkg.civil_scope_changes                                                                                                                                                                                                                                                                                                                                                                                                                                                                                                                                                                                                                                                                      |\n",
       "|---|---|\n",
       "\n",
       "|p_entry_type     |p_am_bulk_file_id|p_account_number|p_area_of_law|p_item_id|p_category_id|p_submission_period|p_case_start_date  |p_am_bulk_header_id|p_ufn     |p_client_surname|p_item_name|p_am_header_id|p_am_line_id|p_schedule_ref|p_stage_reach_code|p_case_outcome_code|p_stage_level_code|p_exemption_criteria|p_ecf_reference|p_cla_reference|p_cla_exemption_code|p_client_date_of_birth|p_case_concluded_date|p_case_transfer_date|p_tolerance_indicator_flag|p_procurement_area|p_access_point|p_delivery_location|p_remote_advice|p_profit_costs|p_counsel_costs|p_tw_costs|x_invalid_outcome|x_problem_outcome|x_warning_outcome|x_error_count?|x_error_message?|x_invalid_outcome?|x_problem_outcome?|x_warning_outcome?|\n",
       "|---|---|---|---|---|---|---|---|---|---|---|---|---|---|---|---|---|---|---|---|---|---|---|---|---|---|---|---|---|---|---|---|---|---|---|---|---|---|---|---|---|\n",
       "|NULL             |NULL             |0Q801N          |LEGAL HELP   |177      |2155         |01/08/2018         |2022/06/01 00:00:00|NULL               |010522/123|Bloke           |IAXL:IDIF  |309           |577         |0Q801N/2018/02|NULL              |--                 |NULL              |NULL                |NULL           |NULL           |NULL                |2001/02/01 00:00:00   |2001/01/01 00:00:00  |2001/01/01 00:00:00 |NULL                      |PA30000           |AP30000       |NULL               |NULL           |300           |100            |0         |NULL             |NULL             |NULL             |NULL          |NULL            |NULL              |NULL              |NULL              |"
      ],
      "text/plain": [
       "<IPython.core.display.Markdown object>"
      ]
     },
     "metadata": {},
     "output_type": "display_data"
    }
   ],
   "source": [
    "# Read clipboard data\n",
    "original_details = pyperclip.paste()\n",
    "\n",
    "# Used to track if we've a new table as the number of columns should change\n",
    "current_count = -1\n",
    "\n",
    "# Break clipboard data into lines and exclude any empty ones\n",
    "lines = [l for l in original_details.splitlines() if l]\n",
    "\n",
    "# Get the number of table columns in each line\n",
    "column_counts = [l.count(\"|\") -1 for l in lines]\n",
    "\n",
    "# Create Markdown version by adding \"|---\" separators when column count changes\n",
    "md_lines = []\n",
    "for line, count in zip(lines, column_counts):\n",
    "    if count != current_count:\n",
    "        md_lines.append(\"\")\n",
    "        md_lines.append(line)\n",
    "        separator = \"|---\" * count + \"|\"\n",
    "        md_lines.append(separator)\n",
    "        current_count = count\n",
    "    else:\n",
    "        md_lines.append(line)\n",
    "    \n",
    "# Display the result\n",
    "md_table = \"\\n\".join(md_lines)\n",
    "display(Markdown(md_table))\n"
   ]
  },
  {
   "cell_type": "markdown",
   "id": "958e56b8-23d3-47ab-8f65-a66ecdd568fb",
   "metadata": {},
   "source": [
    "## 3 Standard Folder and File Creator\n",
    "Uses Jupyter `!` operator to run commands, so won't work as pure Python."
   ]
  },
  {
   "cell_type": "code",
   "execution_count": 1,
   "id": "9d2e477f-0581-4c7e-968c-ac0603028bf8",
   "metadata": {},
   "outputs": [],
   "source": [
    "import os\n",
    "import time\n",
    "\n",
    "def nowstring():\n",
    "    return time.strftime(\"%d/%m/%Y %H:%M:%S\")\n",
    "\n",
    "def show_results(result):\n",
    "    print(nowstring())\n",
    "    for r in result:\n",
    "        if r:\n",
    "            print(r)\n",
    "\n",
    "def make_new_unit_test_files(make_path, package_name, procedure_name, verbose=True):\n",
    "    result = !cd $test_path; make new_unit_test package=$package_name procedure=$procedure_name\n",
    "    if verbose:\n",
    "        show_results(result)\n",
    "\n",
    "def make_new_feature_test_files(make_path, domain, feature, verbose=True):\n",
    "    result = !cd $test_path; make new_integration_test domain=$domain feature=$feature\n",
    "    if verbose:\n",
    "        show_results(result)\n",
    "\n",
    "def show_files(path):\n",
    "    print(nowstring())\n",
    "    unit_path = path + \"/TestSuite/CwaSuite/UnitSuite/ebiz/database/code/\"\n",
    "    feature_path = path + \"/TestSuite/CwaSuite/IntegrationSuite/\"\n",
    "    print(\"Unit\", unit_path)\n",
    "    !ls $unit_path\n",
    "    print(\"Feature\", feature_path)\n",
    "    !ls $feature_path"
   ]
  },
  {
   "cell_type": "markdown",
   "id": "17ec9581-ef0d-43db-a72f-4088f2307ddb",
   "metadata": {},
   "source": [
    "### Set key parameters"
   ]
  },
  {
   "cell_type": "code",
   "execution_count": 4,
   "id": "f4b704d8-800f-44ed-856e-2766d854789a",
   "metadata": {},
   "outputs": [],
   "source": [
    "test_path = \"~/gits/laa-cwa/tests/integration\"\n",
    "package_name = \"delete_this_pkg\"\n",
    "procedure_name = \"delete_this_proc\""
   ]
  },
  {
   "cell_type": "markdown",
   "id": "77798ce9-2768-44ef-a939-cb80993800cd",
   "metadata": {},
   "source": [
    "### Make unit test folders and default files"
   ]
  },
  {
   "cell_type": "code",
   "execution_count": 122,
   "id": "9e696dfa-332f-4798-a245-505445702239",
   "metadata": {
    "tags": []
   },
   "outputs": [
    {
     "name": "stdout",
     "output_type": "stream",
     "text": [
      "01/06/2022 12:01:30\n",
      "==> Files created here: TestSuite/CwaSuite/UnitSuite/ebiz/database/code/delete_this_pkg/delete_this_proc\n",
      "==> Start testing here: \n",
      "http://localhost:8085/TestSuite.CwaSuite.UnitSuite.ebiz.database.code.delete_this_pkg.delete_this_proc.Test1?edit\n"
     ]
    }
   ],
   "source": [
    "# Assigning result to _ just to prevent duplicate output (otherwise Jupyter auto displays but in less tidy way)\n",
    "make_new_unit_test_files(test_path, package_name, procedure_name)"
   ]
  },
  {
   "cell_type": "markdown",
   "id": "7bb0a287-55e7-4eba-9487-a5232be1a58e",
   "metadata": {},
   "source": [
    "### Make feature test folders and default files"
   ]
  },
  {
   "cell_type": "code",
   "execution_count": 120,
   "id": "a2a78149-217a-4c08-a01a-b54a33b469b9",
   "metadata": {},
   "outputs": [
    {
     "name": "stdout",
     "output_type": "stream",
     "text": [
      "01/06/2022 12:01:08\n",
      "==> Feature files already exists...\n",
      "make: *** [new_integration_test] Error 1\n"
     ]
    }
   ],
   "source": [
    "make_new_feature_test_files(test_path, \"bad_feature\", \"booo\")"
   ]
  },
  {
   "cell_type": "markdown",
   "id": "0901fba1-7664-4901-8185-61fc77560dd0",
   "metadata": {},
   "source": [
    "### Check directory contents"
   ]
  },
  {
   "cell_type": "code",
   "execution_count": 117,
   "id": "ac6687ca-3e69-4035-82c8-a27762027eeb",
   "metadata": {},
   "outputs": [
    {
     "name": "stdout",
     "output_type": "stream",
     "text": [
      "01/06/2022 12:00:26\n",
      "Unit ~/gits/laa-cwa/tests/integration/TestSuite/CwaSuite/UnitSuite/ebiz/database/code/\n",
      "\u001b[34mapps\u001b[m\u001b[m\n",
      "\u001b[34mapps.xxlsc_am_validations_pkg\u001b[m\u001b[m\n",
      "\u001b[34mapps.xxlsc_am_validations_pkg.concat_error_messages\u001b[m\u001b[m\n",
      "\u001b[34mdelete_this_pkg\u001b[m\u001b[m\n",
      "\u001b[34mexample_package\u001b[m\u001b[m\n",
      "\u001b[34mexample_package_2\u001b[m\u001b[m\n",
      "\u001b[34mexample_package_3\u001b[m\u001b[m\n",
      "\u001b[34mxxlsc_am_validations_pkg\u001b[m\u001b[m\n",
      "\u001b[34mxxlsc_am_validations_pkg.concat_error_messages\u001b[m\u001b[m\n",
      "Feature ~/gits/laa-cwa/tests/integration/TestSuite/CwaSuite/IntegrationSuite/\n",
      "\u001b[34mSubmissionsSuite\u001b[m\u001b[m \u001b[34mValidations\u001b[m\u001b[m      \u001b[34mbad_feature\u001b[m\u001b[m      content.txt\n"
     ]
    }
   ],
   "source": [
    "show_files(test_path)"
   ]
  },
  {
   "cell_type": "markdown",
   "id": "9a842abf-776c-49c2-a5fb-098ee6a0e5a7",
   "metadata": {},
   "source": [
    "### Original experiment\n",
    "Just changing to dir and making unit test files using path, package_name and procedure defined earlier.      \n",
    "Uses Jupyter `!` operator to run commands, so won't work as pure Python."
   ]
  },
  {
   "cell_type": "code",
   "execution_count": 1,
   "id": "0548641a-bb96-4968-8de9-247206357e11",
   "metadata": {},
   "outputs": [
    {
     "name": "stdout",
     "output_type": "stream",
     "text": [
      "make: *** No rule to make target `new_unit_test'.  Stop.\n"
     ]
    }
   ],
   "source": [
    "# Need to do in one line as ! commands don't inherit from each other (cd in one line would not have any effect on subsequent line)\n",
    "!cd $test_path; make new_unit_test package=$package_name procedure=$procedure_name"
   ]
  }
 ],
 "metadata": {
  "kernelspec": {
   "display_name": "Python 3 (ipykernel)",
   "language": "python",
   "name": "python3"
  },
  "language_info": {
   "codemirror_mode": {
    "name": "ipython",
    "version": 3
   },
   "file_extension": ".py",
   "mimetype": "text/x-python",
   "name": "python",
   "nbconvert_exporter": "python",
   "pygments_lexer": "ipython3",
   "version": "3.9.13"
  }
 },
 "nbformat": 4,
 "nbformat_minor": 5
}
