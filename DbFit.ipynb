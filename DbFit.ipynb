{
 "cells": [
  {
   "cell_type": "markdown",
   "id": "ac9e7bb9-0e19-4c36-9972-d0368217c111",
   "metadata": {},
   "source": [
    "# Some DbFit for CWA things"
   ]
  },
  {
   "cell_type": "code",
   "execution_count": 119,
   "id": "9d2e477f-0581-4c7e-968c-ac0603028bf8",
   "metadata": {},
   "outputs": [],
   "source": [
    "import os\n",
    "import time\n",
    "\n",
    "def nowstring():\n",
    "    return time.strftime(\"%d/%m/%Y %H:%M:%S\")\n",
    "\n",
    "def show_results(result):\n",
    "    print(nowstring())\n",
    "    for r in result:\n",
    "        if r:\n",
    "            print(r)\n",
    "\n",
    "def make_new_unit_test_files(make_path, package_name, procedure_name, verbose=True):\n",
    "    result = !cd $test_path; make new_unit_test package=$package_name procedure=$procedure_name\n",
    "    if verbose:\n",
    "        show_results(result)\n",
    "\n",
    "def make_new_feature_test_files(make_path, domain, feature, verbose=True):\n",
    "    result = !cd $test_path; make new_integration_test domain=$domain feature=$feature\n",
    "    if verbose:\n",
    "        show_results(result)\n",
    "\n",
    "def show_files(path):\n",
    "    print(nowstring())\n",
    "    unit_path = path + \"/TestSuite/CwaSuite/UnitSuite/ebiz/database/code/\"\n",
    "    feature_path = path + \"/TestSuite/CwaSuite/IntegrationSuite/\"\n",
    "    print(\"Unit\", unit_path)\n",
    "    !ls $unit_path\n",
    "    print(\"Feature\", feature_path)\n",
    "    !ls $feature_path"
   ]
  },
  {
   "cell_type": "markdown",
   "id": "17ec9581-ef0d-43db-a72f-4088f2307ddb",
   "metadata": {},
   "source": [
    "## Set key parameters"
   ]
  },
  {
   "cell_type": "code",
   "execution_count": 54,
   "id": "f4b704d8-800f-44ed-856e-2766d854789a",
   "metadata": {},
   "outputs": [],
   "source": [
    "test_path = \"~/gits/laa-cwa/tests/integration\"\n",
    "package_name = \"delete_this_pkg\"\n",
    "procedure_name = \"delete_this_proc\""
   ]
  },
  {
   "cell_type": "markdown",
   "id": "77798ce9-2768-44ef-a939-cb80993800cd",
   "metadata": {},
   "source": [
    "## Make unit test folders and default files"
   ]
  },
  {
   "cell_type": "code",
   "execution_count": 122,
   "id": "9e696dfa-332f-4798-a245-505445702239",
   "metadata": {
    "tags": []
   },
   "outputs": [
    {
     "name": "stdout",
     "output_type": "stream",
     "text": [
      "01/06/2022 12:01:30\n",
      "==> Files created here: TestSuite/CwaSuite/UnitSuite/ebiz/database/code/delete_this_pkg/delete_this_proc\n",
      "==> Start testing here: \n",
      "http://localhost:8085/TestSuite.CwaSuite.UnitSuite.ebiz.database.code.delete_this_pkg.delete_this_proc.Test1?edit\n"
     ]
    }
   ],
   "source": [
    "# Assigning result to _ just to prevent duplicate output (otherwise Jupyter auto displays but in less tidy way)\n",
    "make_new_unit_test_files(test_path, package_name, procedure_name)"
   ]
  },
  {
   "cell_type": "markdown",
   "id": "7bb0a287-55e7-4eba-9487-a5232be1a58e",
   "metadata": {},
   "source": [
    "## Make feature test folders and default files"
   ]
  },
  {
   "cell_type": "code",
   "execution_count": 120,
   "id": "a2a78149-217a-4c08-a01a-b54a33b469b9",
   "metadata": {},
   "outputs": [
    {
     "name": "stdout",
     "output_type": "stream",
     "text": [
      "01/06/2022 12:01:08\n",
      "==> Feature files already exists...\n",
      "make: *** [new_integration_test] Error 1\n"
     ]
    }
   ],
   "source": [
    "make_new_feature_test_files(test_path, \"bad_feature\", \"booo\")"
   ]
  },
  {
   "cell_type": "markdown",
   "id": "0901fba1-7664-4901-8185-61fc77560dd0",
   "metadata": {},
   "source": [
    "## Check directory contents"
   ]
  },
  {
   "cell_type": "code",
   "execution_count": 117,
   "id": "ac6687ca-3e69-4035-82c8-a27762027eeb",
   "metadata": {},
   "outputs": [
    {
     "name": "stdout",
     "output_type": "stream",
     "text": [
      "01/06/2022 12:00:26\n",
      "Unit ~/gits/laa-cwa/tests/integration/TestSuite/CwaSuite/UnitSuite/ebiz/database/code/\n",
      "\u001b[34mapps\u001b[m\u001b[m\n",
      "\u001b[34mapps.xxlsc_am_validations_pkg\u001b[m\u001b[m\n",
      "\u001b[34mapps.xxlsc_am_validations_pkg.concat_error_messages\u001b[m\u001b[m\n",
      "\u001b[34mdelete_this_pkg\u001b[m\u001b[m\n",
      "\u001b[34mexample_package\u001b[m\u001b[m\n",
      "\u001b[34mexample_package_2\u001b[m\u001b[m\n",
      "\u001b[34mexample_package_3\u001b[m\u001b[m\n",
      "\u001b[34mxxlsc_am_validations_pkg\u001b[m\u001b[m\n",
      "\u001b[34mxxlsc_am_validations_pkg.concat_error_messages\u001b[m\u001b[m\n",
      "Feature ~/gits/laa-cwa/tests/integration/TestSuite/CwaSuite/IntegrationSuite/\n",
      "\u001b[34mSubmissionsSuite\u001b[m\u001b[m \u001b[34mValidations\u001b[m\u001b[m      \u001b[34mbad_feature\u001b[m\u001b[m      content.txt\n"
     ]
    }
   ],
   "source": [
    "show_files(test_path)"
   ]
  },
  {
   "cell_type": "markdown",
   "id": "9a842abf-776c-49c2-a5fb-098ee6a0e5a7",
   "metadata": {},
   "source": [
    "## Original experiment"
   ]
  },
  {
   "cell_type": "code",
   "execution_count": 83,
   "id": "0548641a-bb96-4968-8de9-247206357e11",
   "metadata": {},
   "outputs": [
    {
     "name": "stdout",
     "output_type": "stream",
     "text": [
      "==> Procedure files already exists...\n",
      "make: *** [new_unit_test] Error 1\n"
     ]
    }
   ],
   "source": [
    "# Need to do in one line as ! commands don't inherit from each other (cd in one line would not have any effect on subsequent line)\n",
    "!cd $test_path; make new_unit_test package=$package_name procedure=$procedure_name"
   ]
  },
  {
   "cell_type": "code",
   "execution_count": null,
   "id": "d70dea0b-421f-4a35-9c9c-fd6ead2df862",
   "metadata": {},
   "outputs": [],
   "source": []
  }
 ],
 "metadata": {
  "kernelspec": {
   "display_name": "Python 3 (ipykernel)",
   "language": "python",
   "name": "python3"
  },
  "language_info": {
   "codemirror_mode": {
    "name": "ipython",
    "version": 3
   },
   "file_extension": ".py",
   "mimetype": "text/x-python",
   "name": "python",
   "nbconvert_exporter": "python",
   "pygments_lexer": "ipython3",
   "version": "3.9.6"
  }
 },
 "nbformat": 4,
 "nbformat_minor": 5
}
