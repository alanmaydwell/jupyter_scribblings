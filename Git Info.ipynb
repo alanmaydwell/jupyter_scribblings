{
 "cells": [
  {
   "cell_type": "markdown",
   "metadata": {},
   "source": [
    "# Git Info\n",
    "\n",
    "https://git-scm.com/book/id/v2/Getting-Started-Git-Basics  \n",
    "http://rogerdudler.github.io/git-guide/  \n",
    "http://product.hubspot.com/blog/git-and-github-tutorial-for-beginners\n",
    "https://guides.github.com/activities/hello-world/  \n",
    "https://backlogtool.com/git-tutorial/en/intro/intro1_1.html  \n",
    "https://medium.com/@taylorwan/git-for-dummies-63d0c85a239\n"
   ]
  },
  {
   "cell_type": "code",
   "execution_count": 3,
   "metadata": {
    "collapsed": true
   },
   "outputs": [],
   "source": [
    "from ipywidgets import interact, interactive, fixed, interact_manual\n",
    "import ipywidgets as widgets\n",
    "import os"
   ]
  },
  {
   "cell_type": "markdown",
   "metadata": {},
   "source": [
    "## Set Path"
   ]
  },
  {
   "cell_type": "code",
   "execution_count": 1,
   "metadata": {
    "collapsed": true
   },
   "outputs": [],
   "source": [
    "paths = [\n",
    "    \n",
    "\"~/Documents/jupyter/jupyter_scribblings\",\n",
    "\"~/gits/practice\",\n",
    "\"~/temp\"\n",
    "\n",
    "]"
   ]
  },
  {
   "cell_type": "code",
   "execution_count": 4,
   "metadata": {},
   "outputs": [
    {
     "data": {
      "application/vnd.jupyter.widget-view+json": {
       "model_id": "114e301289264c2a894837ceea919f69",
       "version_major": 2,
       "version_minor": 0
      },
      "text/plain": [
       "A Jupyter Widget"
      ]
     },
     "metadata": {},
     "output_type": "display_data"
    }
   ],
   "source": [
    "@interact(path=paths)\n",
    "def listdir(path=[]):\n",
    "    !ls --color $path"
   ]
  },
  {
   "cell_type": "markdown",
   "metadata": {},
   "source": [
    "### With button\n",
    "use interact_manual() decorator rather than interact (disbaled immediate update and adds Run button)"
   ]
  },
  {
   "cell_type": "code",
   "execution_count": 4,
   "metadata": {},
   "outputs": [
    {
     "data": {
      "application/vnd.jupyter.widget-view+json": {
       "model_id": "ed1e602ad8664c8cbc6548f1d3e24d98",
       "version_major": 2,
       "version_minor": 0
      },
      "text/plain": [
       "A Jupyter Widget"
      ]
     },
     "metadata": {},
     "output_type": "display_data"
    }
   ],
   "source": [
    "@interact_manual(path=paths)\n",
    "def listdir(path=[]):\n",
    "    !ls --color $path"
   ]
  },
  {
   "cell_type": "code",
   "execution_count": 5,
   "metadata": {},
   "outputs": [
    {
     "data": {
      "application/vnd.jupyter.widget-view+json": {
       "model_id": "38a14bcaea1043e48cd16a1f9d03ab8b",
       "version_major": 2,
       "version_minor": 0
      },
      "text/plain": [
       "A Jupyter Widget"
      ]
     },
     "metadata": {},
     "output_type": "display_data"
    }
   ],
   "source": [
    "@interact(path=paths)\n",
    "def listdir(path=[]):\n",
    "    print \"p\",path\n",
    "    %cd $path\n",
    "    !git status\n",
    "    !git log"
   ]
  },
  {
   "cell_type": "markdown",
   "metadata": {},
   "source": [
    "### Git List"
   ]
  },
  {
   "cell_type": "code",
   "execution_count": 23,
   "metadata": {},
   "outputs": [
    {
     "name": "stdout",
     "output_type": "stream",
     "text": [
      "four.txt\r\n",
      "one.txt\r\n",
      "three.txt\r\n",
      "two.txt\r\n"
     ]
    }
   ],
   "source": [
    "!git ls-files "
   ]
  },
  {
   "cell_type": "code",
   "execution_count": 22,
   "metadata": {},
   "outputs": [
    {
     "name": "stdout",
     "output_type": "stream",
     "text": [
      "usage: git ls-tree [<options>] <tree-ish> [<path>...]\r\n",
      "\r\n",
      "    -d                    only show trees\r\n",
      "    -r                    recurse into subtrees\r\n",
      "    -t                    show trees when recursing\r\n",
      "    -z                    terminate entries with NUL byte\r\n",
      "    -l, --long            include object size\r\n",
      "    --name-only           list only filenames\r\n",
      "    --name-status         list only filenames\r\n",
      "    --full-name           use full path names\r\n",
      "    --full-tree           list entire tree; not just current directory (implies --full-name)\r\n",
      "    --abbrev[=<n>]        use <n> digits to display SHA-1s\r\n",
      "\r\n"
     ]
    }
   ],
   "source": [
    "!git ls-tree"
   ]
  },
  {
   "cell_type": "code",
   "execution_count": 15,
   "metadata": {},
   "outputs": [
    {
     "name": "stdout",
     "output_type": "stream",
     "text": [
      "On branch master\r\n",
      "nothing to commit, working directory clean\r\n"
     ]
    }
   ],
   "source": [
    "!git status"
   ]
  },
  {
   "cell_type": "markdown",
   "metadata": {},
   "source": [
    "#### Add Files"
   ]
  },
  {
   "cell_type": "code",
   "execution_count": 9,
   "metadata": {
    "collapsed": true
   },
   "outputs": [],
   "source": [
    "!git add *"
   ]
  },
  {
   "cell_type": "markdown",
   "metadata": {
    "collapsed": true
   },
   "source": [
    "#### Commit Changes"
   ]
  },
  {
   "cell_type": "code",
   "execution_count": 14,
   "metadata": {},
   "outputs": [
    {
     "name": "stdout",
     "output_type": "stream",
     "text": [
      "Message:pah\n",
      "[master 3931f71] pah\n",
      " 1 file changed, 1 insertion(+)\n",
      " create mode 100644 four.txt\n"
     ]
    }
   ],
   "source": [
    "text = raw_input(\"Message:\")\n",
    "!git commit -m $text"
   ]
  },
  {
   "cell_type": "markdown",
   "metadata": {},
   "source": [
    "### Amend Message"
   ]
  },
  {
   "cell_type": "code",
   "execution_count": 21,
   "metadata": {},
   "outputs": [
    {
     "name": "stdout",
     "output_type": "stream",
     "text": [
      "[master 4646851] new message text\r\n",
      " Date: Mon Oct 9 14:54:31 2017 +0100\r\n",
      " 1 file changed, 1 insertion(+)\r\n",
      " create mode 100644 four.txt\r\n"
     ]
    }
   ],
   "source": [
    "!git commit --amend -m \"new message text\""
   ]
  },
  {
   "cell_type": "markdown",
   "metadata": {},
   "source": [
    "### Push to master"
   ]
  },
  {
   "cell_type": "code",
   "execution_count": 24,
   "metadata": {
    "collapsed": true
   },
   "outputs": [],
   "source": [
    "#git push origin master"
   ]
  },
  {
   "cell_type": "code",
   "execution_count": null,
   "metadata": {
    "collapsed": true
   },
   "outputs": [],
   "source": []
  }
 ],
 "metadata": {
  "kernelspec": {
   "display_name": "Python 2",
   "language": "python",
   "name": "python2"
  },
  "language_info": {
   "codemirror_mode": {
    "name": "ipython",
    "version": 2
   },
   "file_extension": ".py",
   "mimetype": "text/x-python",
   "name": "python",
   "nbconvert_exporter": "python",
   "pygments_lexer": "ipython2",
   "version": "2.7.12"
  }
 },
 "nbformat": 4,
 "nbformat_minor": 2
}
