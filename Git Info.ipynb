{
 "cells": [
  {
   "cell_type": "code",
   "execution_count": 3,
   "metadata": {
    "collapsed": true
   },
   "outputs": [],
   "source": [
    "from ipywidgets import interact, interactive, fixed, interact_manual\n",
    "import ipywidgets as widgets\n",
    "import os"
   ]
  },
  {
   "cell_type": "markdown",
   "metadata": {},
   "source": [
    "# Git Info\n",
    "\n",
    "https://git-scm.com/book/id/v2/Getting-Started-Git-Basics  \n",
    "http://rogerdudler.github.io/git-guide/  \n",
    "http://product.hubspot.com/blog/git-and-github-tutorial-for-beginners\n",
    "https://guides.github.com/activities/hello-world/  \n",
    "https://backlogtool.com/git-tutorial/en/intro/intro1_1.html  \n",
    "https://medium.com/@taylorwan/git-for-dummies-63d0c85a239\n"
   ]
  },
  {
   "cell_type": "markdown",
   "metadata": {},
   "source": [
    "## Guidance from AWS Hosting Project\n",
    "\n",
    "GDS style guides for developers – https://github.com/alphagov/styleguides\n",
    "\n",
    "In particular, the Git and Pull Request ones are relevant.\n",
    "\n",
    "    https://github.com/alphagov/styleguides/blob/master/git.md\n",
    "    https://github.com/alphagov/styleguides/blob/master/pull-requests.md\n",
    "\n",
    "The MOJ git guidance – https://ministryofjustice.github.io/technical-guidance/guides/using-git/#using-git\n",
    "\n",
    "The LAA Strategic Hosting Programme guidance around trunk-based development and git – https://dsdmoj.atlassian.net/wiki/spaces/LM/pages/211649238/Git+Usage\n",
    "\n",
    "Trunk-based development – what is is and how to do it – https://trunkbaseddevelopment.com/"
   ]
  },
  {
   "cell_type": "markdown",
   "metadata": {},
   "source": [
    "### Setting own identity\n",
    "\n",
    "To be able to commit changes in git it is necessary to configure both username and email address. This is true even when only using local repository. This does not need to be same as GitHub username, can be your own name and include spaces.\n",
    "\n",
    "git config --global user.name \"Fred Centric\"    \n",
    "git config --global user.email fredcentric@example.com\n",
    "\n",
    "### Viewing own settings\n",
    "\n",
    "git config --list\n",
    "\n",
    "git config user.name"
   ]
  },
  {
   "cell_type": "markdown",
   "metadata": {},
   "source": [
    "## Set Path"
   ]
  },
  {
   "cell_type": "code",
   "execution_count": 1,
   "metadata": {
    "collapsed": true
   },
   "outputs": [],
   "source": [
    "paths = [\n",
    "    \n",
    "\"~/Documents/jupyter/jupyter_scribblings\",\n",
    "\"~/gits/practice\",\n",
    "\"~/temp\"\n",
    "]"
   ]
  },
  {
   "cell_type": "code",
   "execution_count": 4,
   "metadata": {},
   "outputs": [
    {
     "data": {
      "application/vnd.jupyter.widget-view+json": {
       "model_id": "839bb5e03db542328d792488b7032cda",
       "version_major": 2,
       "version_minor": 0
      },
      "text/plain": [
       "A Jupyter Widget"
      ]
     },
     "metadata": {},
     "output_type": "display_data"
    }
   ],
   "source": [
    "@interact(path=paths)\n",
    "def listdir(path=[]):\n",
    "    !ls --color $path"
   ]
  },
  {
   "cell_type": "markdown",
   "metadata": {},
   "source": [
    "### With button\n",
    "use interact_manual() decorator rather than interact (disbaled immediate update and adds Run button)"
   ]
  },
  {
   "cell_type": "code",
   "execution_count": 5,
   "metadata": {},
   "outputs": [
    {
     "data": {
      "application/vnd.jupyter.widget-view+json": {
       "model_id": "3792a4e59fb84e73bd222a37258a44c6",
       "version_major": 2,
       "version_minor": 0
      },
      "text/plain": [
       "A Jupyter Widget"
      ]
     },
     "metadata": {},
     "output_type": "display_data"
    }
   ],
   "source": [
    "@interact_manual(path=paths)\n",
    "def listdir(path=[]):\n",
    "    !ls --color $path"
   ]
  },
  {
   "cell_type": "code",
   "execution_count": 6,
   "metadata": {},
   "outputs": [
    {
     "data": {
      "application/vnd.jupyter.widget-view+json": {
       "model_id": "ffe00a2679e348029b148b751704a99f",
       "version_major": 2,
       "version_minor": 0
      },
      "text/plain": [
       "A Jupyter Widget"
      ]
     },
     "metadata": {},
     "output_type": "display_data"
    }
   ],
   "source": [
    "@interact(path=paths)\n",
    "def listdir(path=[]):\n",
    "    print \"p\",path\n",
    "    %cd $path\n",
    "    !git status\n",
    "    !git log"
   ]
  },
  {
   "cell_type": "markdown",
   "metadata": {},
   "source": [
    "## Start New Repository"
   ]
  },
  {
   "cell_type": "code",
   "execution_count": null,
   "metadata": {
    "collapsed": true
   },
   "outputs": [],
   "source": [
    "#cd to the directory\n",
    "#git init"
   ]
  },
  {
   "cell_type": "markdown",
   "metadata": {},
   "source": [
    "### Git List"
   ]
  },
  {
   "cell_type": "code",
   "execution_count": 23,
   "metadata": {},
   "outputs": [
    {
     "name": "stdout",
     "output_type": "stream",
     "text": [
      "four.txt\n",
      "one.txt\n",
      "three.txt\n",
      "two.txt\n"
     ]
    }
   ],
   "source": [
    "!git ls-files "
   ]
  },
  {
   "cell_type": "code",
   "execution_count": 22,
   "metadata": {},
   "outputs": [
    {
     "name": "stdout",
     "output_type": "stream",
     "text": [
      "usage: git ls-tree [<options>] <tree-ish> [<path>...]\n",
      "\n",
      "    -d                    only show trees\n",
      "    -r                    recurse into subtrees\n",
      "    -t                    show trees when recursing\n",
      "    -z                    terminate entries with NUL byte\n",
      "    -l, --long            include object size\n",
      "    --name-only           list only filenames\n",
      "    --name-status         list only filenames\n",
      "    --full-name           use full path names\n",
      "    --full-tree           list entire tree; not just current directory (implies --full-name)\n",
      "    --abbrev[=<n>]        use <n> digits to display SHA-1s\n",
      "\n"
     ]
    }
   ],
   "source": [
    "!git ls-tree"
   ]
  },
  {
   "cell_type": "code",
   "execution_count": 15,
   "metadata": {},
   "outputs": [
    {
     "name": "stdout",
     "output_type": "stream",
     "text": [
      "On branch master\n",
      "nothing to commit, working directory clean\n"
     ]
    }
   ],
   "source": [
    "!git status"
   ]
  },
  {
   "cell_type": "markdown",
   "metadata": {},
   "source": [
    "#### Add Files"
   ]
  },
  {
   "cell_type": "code",
   "execution_count": 7,
   "metadata": {
    "collapsed": true
   },
   "outputs": [],
   "source": [
    "!git add *"
   ]
  },
  {
   "cell_type": "markdown",
   "metadata": {},
   "source": [
    "#### Commit Changes"
   ]
  },
  {
   "cell_type": "code",
   "execution_count": 14,
   "metadata": {},
   "outputs": [
    {
     "name": "stdout",
     "output_type": "stream",
     "text": [
      "Message:pah\n",
      "[master 3931f71] pah\n",
      " 1 file changed, 1 insertion(+)\n",
      " create mode 100644 four.txt\n"
     ]
    }
   ],
   "source": [
    "text = raw_input(\"Message:\")\n",
    "!git commit -m $text"
   ]
  },
  {
   "cell_type": "markdown",
   "metadata": {},
   "source": [
    "### Amend Message"
   ]
  },
  {
   "cell_type": "code",
   "execution_count": 21,
   "metadata": {},
   "outputs": [
    {
     "name": "stdout",
     "output_type": "stream",
     "text": [
      "[master 4646851] new message text\n",
      " Date: Mon Oct 9 14:54:31 2017 +0100\n",
      " 1 file changed, 1 insertion(+)\n",
      " create mode 100644 four.txt\n"
     ]
    }
   ],
   "source": [
    "!git commit --amend -m \"new message text\""
   ]
  },
  {
   "cell_type": "markdown",
   "metadata": {},
   "source": [
    "### Push to master"
   ]
  },
  {
   "cell_type": "code",
   "execution_count": 24,
   "metadata": {
    "collapsed": true
   },
   "outputs": [],
   "source": [
    "#git push origin master"
   ]
  },
  {
   "cell_type": "markdown",
   "metadata": {},
   "source": [
    "### Push existing local repository to new Github repository"
   ]
  },
  {
   "cell_type": "code",
   "execution_count": null,
   "metadata": {
    "collapsed": true
   },
   "outputs": [],
   "source": [
    "# git remote add origin https://github.com/alanmaydwell/jupyter_scribblings.git\n",
    "# git push -u origin master"
   ]
  }
 ],
 "metadata": {
  "kernelspec": {
   "display_name": "Python 2",
   "language": "python",
   "name": "python2"
  },
  "language_info": {
   "codemirror_mode": {
    "name": "ipython",
    "version": 2
   },
   "file_extension": ".py",
   "mimetype": "text/x-python",
   "name": "python",
   "nbconvert_exporter": "python",
   "pygments_lexer": "ipython2",
   "version": "2.7.15rc1"
  }
 },
 "nbformat": 4,
 "nbformat_minor": 2
}
