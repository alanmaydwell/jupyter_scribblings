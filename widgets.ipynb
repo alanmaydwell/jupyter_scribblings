{
 "cells": [
  {
   "cell_type": "markdown",
   "metadata": {},
   "source": [
    "# Widgets\n",
    "\n",
    "http://ipywidgets.readthedocs.io/en/stable/examples/Widget%20List.html\n",
    "\n",
    "http://ipywidgets.readthedocs.io/en/stable/examples/Widget%20Basics.html\n",
    "\n",
    "\n",
    "** Layout **\n",
    "\n",
    "http://ipywidgets.readthedocs.io/en/stable/examples/Widget%20Styling.html\n",
    "\n",
    "**Standard icon names**\n",
    "\n",
    "http://fontawesome.io/cheatsheet/\n",
    "\n",
    "** Run once to get widgets to work **\n"
   ]
  },
  {
   "cell_type": "code",
   "execution_count": 1,
   "metadata": {
    "collapsed": true
   },
   "outputs": [],
   "source": [
    "import ipywidgets as widgets\n",
    "\n",
    "import time\n",
    "import os"
   ]
  },
  {
   "cell_type": "code",
   "execution_count": 2,
   "metadata": {},
   "outputs": [
    {
     "data": {
      "application/vnd.jupyter.widget-view+json": {
       "model_id": "ddf544642c6041d48cd11323fa4d7f8b",
       "version_major": 2,
       "version_minor": 0
      },
      "text/plain": [
       "A Jupyter Widget"
      ]
     },
     "metadata": {},
     "output_type": "display_data"
    }
   ],
   "source": [
    "#Get filenames for the current directory\n",
    "cwd = os.getcwd()\n",
    "filenames = os.listdir(cwd)\n",
    "\n",
    "#Create go button\n",
    "go_button = widgets.Button(\n",
    "    description='Go!',\n",
    "    disabled=False,\n",
    "    button_style='success', # 'success', 'info', 'warning', 'danger' or ''\n",
    "    tooltip='Start execution',\n",
    "    icon='fa-flash'#icon types - http://fontawesome.io/cheatsheet/\n",
    "    )\n",
    "\n",
    "#Create a drop-down list\n",
    "option_list = widgets.Dropdown(\n",
    "    options=filenames,\n",
    "    value=filenames[0],\n",
    "    description='File:',\n",
    "    disabled=False,\n",
    "    )\n",
    "\n",
    "#Create laucher function (to be associated with go button)\n",
    "def dostuff(button=None):\n",
    "    \"\"\"argument button is needed because calling calling button sends\n",
    "    itself as an agument. Not used here but we need to handle it.\"\"\"\n",
    "    #disable the button until execution completed to prevent simulataneous runs\n",
    "    button.disabled=True\n",
    "    #Do stuff\n",
    "    print option_list.value\n",
    "    !ls\n",
    "    time.sleep(5)\n",
    "    #Finished, so re-enable button\n",
    "    button.disabled=False\n",
    "\n",
    "#Set fuction to be called when button clicked\n",
    "go_button.on_click(dostuff)\n",
    "\n",
    "#Optional\n",
    "#Define a horizontal box for horizontal alignment\n",
    "#and place both widgets within it (in placement order).\n",
    "horizontal_box = widgets.HBox([option_list, go_button])\n",
    "display(horizontal_box)\n",
    "\n",
    "\n",
    "##Display both\n",
    "##display(option_list, go_button)"
   ]
  },
  {
   "cell_type": "code",
   "execution_count": 3,
   "metadata": {},
   "outputs": [
    {
     "data": {
      "application/vnd.jupyter.widget-view+json": {
       "model_id": "539b3b67a8114368a07162373176313b",
       "version_major": 2,
       "version_minor": 0
      },
      "text/plain": [
       "A Jupyter Widget"
      ]
     },
     "metadata": {},
     "output_type": "display_data"
    }
   ],
   "source": [
    "widgets.SelectMultiple(\n",
    "    options=['Apples', 'Oranges', 'Pears'],\n",
    "    value=['Oranges'],\n",
    "    #rows=10,\n",
    "    description='Fruits',\n",
    "    disabled=False\n",
    ")"
   ]
  },
  {
   "cell_type": "code",
   "execution_count": 4,
   "metadata": {},
   "outputs": [
    {
     "data": {
      "application/vnd.jupyter.widget-view+json": {
       "model_id": "6d734c8dfef44af99187a00eae15433c",
       "version_major": 2,
       "version_minor": 0
      },
      "text/plain": [
       "A Jupyter Widget"
      ]
     },
     "metadata": {},
     "output_type": "display_data"
    }
   ],
   "source": [
    "#List the filenames as tickboxes\n",
    "\n",
    "#Define some title text in HTML format (looks nicer)\n",
    "title_text = widgets.HTML(value=\"<b>Filenames Included In Run</b>\")\n",
    "\n",
    "#Create a list containing a tickbox widget for each filename\n",
    "tickboxes = [widgets.Checkbox(value=False, description=filename) for filename in filenames]\n",
    "\n",
    "#Create go button\n",
    "go_button = widgets.Button(\n",
    "    description='Run',\n",
    "    button_style='', # 'success', 'info', 'warning', 'danger' or ''\n",
    "    icon='fa-flash'#icon types - http://fontawesome.io/cheatsheet/\n",
    "    )\n",
    "\n",
    "#Define function called when go_button pressed\n",
    "def do_stuff(button):\n",
    "    button.disabled = True\n",
    "    #Extract the filenames associated with the ticked tickboxes\n",
    "    chosen = [tickbox.description for tickbox in tickboxes if tickbox.value==True]\n",
    "    print chosen\n",
    "    button.disabled = False\n",
    "    \n",
    "#Associate button with the function\n",
    "go_button.on_click(do_stuff)\n",
    "\n",
    "\n",
    "#Define a style for vertical box\n",
    "box_layout = widgets.Layout(display='flex',\n",
    "                            flex_flow='column',\n",
    "                            align_items='stretch',\n",
    "                            border='solid',\n",
    "                            width='40%')\n",
    "\n",
    "#Create a vertical box to display the items, using style from above\n",
    "vert_box = widgets.VBox([title_text]+tickboxes+[go_button], layout=box_layout)\n",
    "display(vert_box)\n",
    "\n"
   ]
  },
  {
   "cell_type": "markdown",
   "metadata": {},
   "source": [
    "### Folder Opener"
   ]
  },
  {
   "cell_type": "code",
   "execution_count": 5,
   "metadata": {},
   "outputs": [
    {
     "data": {
      "application/vnd.jupyter.widget-view+json": {
       "model_id": "8e15c951df9641d7b203410bc715abf4",
       "version_major": 2,
       "version_minor": 0
      },
      "text/plain": [
       "A Jupyter Widget"
      ]
     },
     "metadata": {},
     "output_type": "display_data"
    },
    {
     "data": {
      "application/vnd.jupyter.widget-view+json": {
       "model_id": "17129914ed8247ff96e0dd32052c7d9c",
       "version_major": 2,
       "version_minor": 0
      },
      "text/plain": [
       "A Jupyter Widget"
      ]
     },
     "metadata": {},
     "output_type": "display_data"
    }
   ],
   "source": [
    "folder_path = \"/home\"\n",
    "open_label = widgets.HTML(value=\"<b>Open: </b>\"+folder_path)\n",
    "open_button = widgets.Button(description='...', icon='fa-folder')\n",
    "\n",
    "def open_folder(button):\n",
    "    button.disabled = True\n",
    "    #\"bash\" line - not Python\n",
    "    !nemo $folder_path\n",
    "    button.disabled = False\n",
    "    \n",
    "open_button.on_click(open_folder)\n",
    "    \n",
    "display(open_label,open_button)"
   ]
  },
  {
   "cell_type": "markdown",
   "metadata": {},
   "source": [
    "## Run Things"
   ]
  },
  {
   "cell_type": "code",
   "execution_count": 6,
   "metadata": {},
   "outputs": [
    {
     "data": {
      "application/vnd.jupyter.widget-view+json": {
       "model_id": "6d734c8dfef44af99187a00eae15433c",
       "version_major": 2,
       "version_minor": 0
      },
      "text/plain": [
       "A Jupyter Widget"
      ]
     },
     "metadata": {},
     "output_type": "display_data"
    }
   ],
   "source": [
    "display(vert_box)"
   ]
  },
  {
   "cell_type": "code",
   "execution_count": 7,
   "metadata": {},
   "outputs": [
    {
     "data": {
      "application/vnd.jupyter.widget-view+json": {
       "model_id": "8e15c951df9641d7b203410bc715abf4",
       "version_major": 2,
       "version_minor": 0
      },
      "text/plain": [
       "A Jupyter Widget"
      ]
     },
     "metadata": {},
     "output_type": "display_data"
    },
    {
     "data": {
      "application/vnd.jupyter.widget-view+json": {
       "model_id": "17129914ed8247ff96e0dd32052c7d9c",
       "version_major": 2,
       "version_minor": 0
      },
      "text/plain": [
       "A Jupyter Widget"
      ]
     },
     "metadata": {},
     "output_type": "display_data"
    }
   ],
   "source": [
    "display(open_label,open_button)"
   ]
  },
  {
   "cell_type": "code",
   "execution_count": null,
   "metadata": {
    "collapsed": true
   },
   "outputs": [],
   "source": []
  }
 ],
 "metadata": {
  "kernelspec": {
   "display_name": "Python 2",
   "language": "python",
   "name": "python2"
  },
  "language_info": {
   "codemirror_mode": {
    "name": "ipython",
    "version": 2
   },
   "file_extension": ".py",
   "mimetype": "text/x-python",
   "name": "python",
   "nbconvert_exporter": "python",
   "pygments_lexer": "ipython2",
   "version": "2.7.12"
  }
 },
 "nbformat": 4,
 "nbformat_minor": 2
}
