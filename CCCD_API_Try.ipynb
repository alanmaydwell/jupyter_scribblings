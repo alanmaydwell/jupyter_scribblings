{
 "cells": [
  {
   "cell_type": "markdown",
   "metadata": {},
   "source": [
    "### CCCD Vendor API Try\n",
    "\n",
    "#### Background docs\n",
    "https://github.com/ministryofjustice/adp_api_client/tree/master/ADPAPIClient\n",
    "\n",
    "https://staging.claim-crown-court-defence.service.justice.gov.uk/api/documentation#!/api/getApiCourts"
   ]
  },
  {
   "cell_type": "code",
   "execution_count": 107,
   "metadata": {},
   "outputs": [],
   "source": [
    "import json\n",
    "import getpass\n",
    "import requests"
   ]
  },
  {
   "cell_type": "markdown",
   "metadata": {},
   "source": [
    "### Set API Key for Session"
   ]
  },
  {
   "cell_type": "code",
   "execution_count": 108,
   "metadata": {},
   "outputs": [
    {
     "name": "stdin",
     "output_type": "stream",
     "text": [
      "CCCD API Key ····································\n"
     ]
    }
   ],
   "source": [
    "api_key = getpass.getpass(\"CCCD API Key\")"
   ]
  },
  {
   "cell_type": "markdown",
   "metadata": {},
   "source": [
    "### Try using Get"
   ]
  },
  {
   "cell_type": "code",
   "execution_count": 109,
   "metadata": {},
   "outputs": [],
   "source": [
    "api_url = \"https://staging.claim-crown-court-defence.service.justice.gov.uk/api/\"\n",
    "api_key_text = \"api_key=\" + api_key"
   ]
  },
  {
   "cell_type": "markdown",
   "metadata": {},
   "source": [
    "### Send request and display response"
   ]
  },
  {
   "cell_type": "code",
   "execution_count": 110,
   "metadata": {},
   "outputs": [
    {
     "name": "stdout",
     "output_type": "stream",
     "text": [
      "200\n",
      "{'id': 1, 'code': '401', 'name': 'Aylesbury', 'court_type': 'crown'}\n",
      "{'id': 2, 'code': '461', 'name': 'Basildon', 'court_type': 'crown'}\n",
      "{'id': 3, 'code': '404', 'name': 'Birmingham', 'court_type': 'crown'}\n",
      "{'id': 4, 'code': '428', 'name': 'Blackfriars', 'court_type': 'crown'}\n",
      "{'id': 5, 'code': '470', 'name': 'Bolton', 'court_type': 'crown'}\n",
      "{'id': 6, 'code': '406', 'name': 'Bournemouth', 'court_type': 'crown'}\n",
      "{'id': 7, 'code': '402', 'name': 'Bradford', 'court_type': 'crown'}\n",
      "{'id': 8, 'code': '408', 'name': 'Bristol', 'court_type': 'crown'}\n",
      "{'id': 9, 'code': '409', 'name': 'Burnley', 'court_type': 'crown'}\n",
      "{'id': 10, 'code': '410', 'name': 'Cambridge', 'court_type': 'crown'}\n",
      "{'id': 11, 'code': '479', 'name': 'Canterbury', 'court_type': 'crown'}\n",
      "{'id': 12, 'code': '411', 'name': 'Cardiff', 'court_type': 'crown'}\n",
      "{'id': 13, 'code': '412', 'name': 'Carlisle', 'court_type': 'crown'}\n",
      "{'id': 14, 'code': '413', 'name': 'Central Criminal Court', 'court_type': 'crown'}\n",
      "{'id': 15, 'code': '414', 'name': 'Chelmsford', 'court_type': 'crown'}\n",
      "{'id': 16, 'code': '415', 'name': 'Chester', 'court_type': 'crown'}\n",
      "{'id': 17, 'code': '416', 'name': 'Chichester', 'court_type': 'crown'}\n",
      "{'id': 18, 'code': '417', 'name': 'Coventry', 'court_type': 'crown'}\n",
      "{'id': 19, 'code': '418', 'name': 'Croydon', 'court_type': 'crown'}\n",
      "{'id': 20, 'code': '419', 'name': 'Derby', 'court_type': 'crown'}\n",
      "{'id': 21, 'code': '420', 'name': 'Doncaster', 'court_type': 'crown'}\n",
      "{'id': 22, 'code': '422', 'name': 'Durham', 'court_type': 'crown'}\n",
      "{'id': 23, 'code': '423', 'name': 'Exeter', 'court_type': 'crown'}\n",
      "{'id': 24, 'code': '424', 'name': 'Gloucester', 'court_type': 'crown'}\n",
      "{'id': 25, 'code': '425', 'name': 'Grimsby', 'court_type': 'crown'}\n",
      "{'id': 26, 'code': '474', 'name': 'Guildford', 'court_type': 'crown'}\n",
      "{'id': 27, 'code': '468', 'name': 'Harrow', 'court_type': 'crown'}\n",
      "{'id': 28, 'code': '403', 'name': 'Hull', 'court_type': 'crown'}\n",
      "{'id': 29, 'code': '440', 'name': 'Inner London', 'court_type': 'crown'}\n",
      "{'id': 30, 'code': '426', 'name': 'Ipswich', 'court_type': 'crown'}\n",
      "{'id': 31, 'code': '475', 'name': 'Isleworth', 'court_type': 'crown'}\n",
      "{'id': 32, 'code': '427', 'name': 'Kingston Upon Thames', 'court_type': 'crown'}\n",
      "{'id': 33, 'code': '429', 'name': 'Leeds', 'court_type': 'crown'}\n",
      "{'id': 34, 'code': '430', 'name': 'Leicester', 'court_type': 'crown'}\n",
      "{'id': 35, 'code': '431', 'name': 'Lewes', 'court_type': 'crown'}\n",
      "{'id': 36, 'code': '432', 'name': 'Lincoln', 'court_type': 'crown'}\n",
      "{'id': 37, 'code': '433', 'name': 'Liverpool', 'court_type': 'crown'}\n",
      "{'id': 38, 'code': '476', 'name': 'Luton', 'court_type': 'crown'}\n",
      "{'id': 39, 'code': '434', 'name': 'Maidstone', 'court_type': 'crown'}\n",
      "{'id': 40, 'code': '435', 'name': 'Manchester (Crown Sq)', 'court_type': 'crown'}\n",
      "{'id': 41, 'code': '436', 'name': 'Manchester (Minshull St)', 'court_type': 'crown'}\n",
      "{'id': 42, 'code': '437', 'name': 'Merthyr Tydfil', 'court_type': 'crown'}\n",
      "{'id': 43, 'code': '464', 'name': 'Middx Guildhall', 'court_type': 'crown'}\n",
      "{'id': 44, 'code': '438', 'name': 'Mold', 'court_type': 'crown'}\n",
      "{'id': 45, 'code': '439', 'name': 'Newcastle', 'court_type': 'crown'}\n",
      "{'id': 46, 'code': '478', 'name': 'Newport (IOW)', 'court_type': 'crown'}\n",
      "{'id': 47, 'code': '441', 'name': 'Newport', 'court_type': 'crown'}\n",
      "{'id': 48, 'code': '442', 'name': 'Northampton', 'court_type': 'crown'}\n",
      "{'id': 49, 'code': '443', 'name': 'Norwich', 'court_type': 'crown'}\n",
      "{'id': 50, 'code': '444', 'name': 'Nottingham', 'court_type': 'crown'}\n",
      "{'id': 51, 'code': '445', 'name': 'Oxford', 'court_type': 'crown'}\n",
      "{'id': 52, 'code': '473', 'name': 'Peterborough', 'court_type': 'crown'}\n",
      "{'id': 53, 'code': '446', 'name': 'Plymouth', 'court_type': 'crown'}\n",
      "{'id': 54, 'code': '447', 'name': 'Portsmouth', 'court_type': 'crown'}\n",
      "{'id': 55, 'code': '448', 'name': 'Preston', 'court_type': 'crown'}\n",
      "{'id': 56, 'code': '449', 'name': 'Reading', 'court_type': 'crown'}\n",
      "{'id': 57, 'code': '480', 'name': 'Salisbury', 'court_type': 'crown'}\n",
      "{'id': 58, 'code': '451', 'name': 'Sheffield', 'court_type': 'crown'}\n",
      "{'id': 59, 'code': '452', 'name': 'Shrewsbury', 'court_type': 'crown'}\n",
      "{'id': 60, 'code': '453', 'name': 'Snaresbrook', 'court_type': 'crown'}\n",
      "{'id': 61, 'code': '454', 'name': 'Southampton', 'court_type': 'crown'}\n",
      "{'id': 62, 'code': '471', 'name': 'Southwark', 'court_type': 'crown'}\n",
      "{'id': 63, 'code': '450', 'name': 'St Albans', 'court_type': 'crown'}\n",
      "{'id': 64, 'code': '455', 'name': 'Stafford', 'court_type': 'crown'}\n",
      "{'id': 65, 'code': '456', 'name': 'Stoke on Trent', 'court_type': 'crown'}\n",
      "{'id': 66, 'code': '457', 'name': 'Swansea', 'court_type': 'crown'}\n",
      "{'id': 67, 'code': '458', 'name': 'Swindon', 'court_type': 'crown'}\n",
      "{'id': 68, 'code': '459', 'name': 'Taunton', 'court_type': 'crown'}\n",
      "{'id': 69, 'code': '460', 'name': 'Teesside', 'court_type': 'crown'}\n",
      "{'id': 70, 'code': '477', 'name': 'Truro', 'court_type': 'crown'}\n",
      "{'id': 71, 'code': '462', 'name': 'Warrington', 'court_type': 'crown'}\n",
      "{'id': 72, 'code': '463', 'name': 'Warwick', 'court_type': 'crown'}\n",
      "{'id': 73, 'code': '407', 'name': 'Weymouth and Dorcester', 'court_type': 'crown'}\n",
      "{'id': 74, 'code': '465', 'name': 'Winchester', 'court_type': 'crown'}\n",
      "{'id': 75, 'code': '421', 'name': 'Wolverhampton', 'court_type': 'crown'}\n",
      "{'id': 76, 'code': '469', 'name': 'Wood Green', 'court_type': 'crown'}\n",
      "{'id': 77, 'code': '472', 'name': 'Woolwich', 'court_type': 'crown'}\n",
      "{'id': 78, 'code': '466', 'name': 'Worcester', 'court_type': 'crown'}\n",
      "{'id': 79, 'code': '467', 'name': 'York', 'court_type': 'crown'}\n",
      "{'id': 80, 'code': '999', 'name': 'Caernarfon', 'court_type': 'crown'}\n"
     ]
    }
   ],
   "source": [
    "things = [\"case_types?\", \"courts?\"]\n",
    "things = [\"courts?\"]\n",
    "for thing in things:\n",
    "    response = requests.get(api_url + thing + api_key_text)\n",
    "    response_data = json.loads(response.text)\n",
    "    print(response.status_code)\n",
    "    for r in response_data:\n",
    "        print(r)"
   ]
  },
  {
   "cell_type": "markdown",
   "metadata": {},
   "source": [
    "### Try using Get (2) - Nicer Way? Using params"
   ]
  },
  {
   "cell_type": "code",
   "execution_count": 119,
   "metadata": {},
   "outputs": [
    {
     "data": {
      "text/plain": [
       "200"
      ]
     },
     "metadata": {},
     "output_type": "display_data"
    },
    {
     "data": {
      "text/plain": [
       "[{'id': 1, 'code': '401', 'name': 'Aylesbury', 'court_type': 'crown'},\n",
       " {'id': 2, 'code': '461', 'name': 'Basildon', 'court_type': 'crown'},\n",
       " {'id': 3, 'code': '404', 'name': 'Birmingham', 'court_type': 'crown'},\n",
       " {'id': 4, 'code': '428', 'name': 'Blackfriars', 'court_type': 'crown'},\n",
       " {'id': 5, 'code': '470', 'name': 'Bolton', 'court_type': 'crown'},\n",
       " {'id': 6, 'code': '406', 'name': 'Bournemouth', 'court_type': 'crown'},\n",
       " {'id': 7, 'code': '402', 'name': 'Bradford', 'court_type': 'crown'},\n",
       " {'id': 8, 'code': '408', 'name': 'Bristol', 'court_type': 'crown'},\n",
       " {'id': 9, 'code': '409', 'name': 'Burnley', 'court_type': 'crown'},\n",
       " {'id': 10, 'code': '410', 'name': 'Cambridge', 'court_type': 'crown'},\n",
       " {'id': 11, 'code': '479', 'name': 'Canterbury', 'court_type': 'crown'},\n",
       " {'id': 12, 'code': '411', 'name': 'Cardiff', 'court_type': 'crown'},\n",
       " {'id': 13, 'code': '412', 'name': 'Carlisle', 'court_type': 'crown'},\n",
       " {'id': 14,\n",
       "  'code': '413',\n",
       "  'name': 'Central Criminal Court',\n",
       "  'court_type': 'crown'},\n",
       " {'id': 15, 'code': '414', 'name': 'Chelmsford', 'court_type': 'crown'},\n",
       " {'id': 16, 'code': '415', 'name': 'Chester', 'court_type': 'crown'},\n",
       " {'id': 17, 'code': '416', 'name': 'Chichester', 'court_type': 'crown'},\n",
       " {'id': 18, 'code': '417', 'name': 'Coventry', 'court_type': 'crown'},\n",
       " {'id': 19, 'code': '418', 'name': 'Croydon', 'court_type': 'crown'},\n",
       " {'id': 20, 'code': '419', 'name': 'Derby', 'court_type': 'crown'},\n",
       " {'id': 21, 'code': '420', 'name': 'Doncaster', 'court_type': 'crown'},\n",
       " {'id': 22, 'code': '422', 'name': 'Durham', 'court_type': 'crown'},\n",
       " {'id': 23, 'code': '423', 'name': 'Exeter', 'court_type': 'crown'},\n",
       " {'id': 24, 'code': '424', 'name': 'Gloucester', 'court_type': 'crown'},\n",
       " {'id': 25, 'code': '425', 'name': 'Grimsby', 'court_type': 'crown'},\n",
       " {'id': 26, 'code': '474', 'name': 'Guildford', 'court_type': 'crown'},\n",
       " {'id': 27, 'code': '468', 'name': 'Harrow', 'court_type': 'crown'},\n",
       " {'id': 28, 'code': '403', 'name': 'Hull', 'court_type': 'crown'},\n",
       " {'id': 29, 'code': '440', 'name': 'Inner London', 'court_type': 'crown'},\n",
       " {'id': 30, 'code': '426', 'name': 'Ipswich', 'court_type': 'crown'},\n",
       " {'id': 31, 'code': '475', 'name': 'Isleworth', 'court_type': 'crown'},\n",
       " {'id': 32,\n",
       "  'code': '427',\n",
       "  'name': 'Kingston Upon Thames',\n",
       "  'court_type': 'crown'},\n",
       " {'id': 33, 'code': '429', 'name': 'Leeds', 'court_type': 'crown'},\n",
       " {'id': 34, 'code': '430', 'name': 'Leicester', 'court_type': 'crown'},\n",
       " {'id': 35, 'code': '431', 'name': 'Lewes', 'court_type': 'crown'},\n",
       " {'id': 36, 'code': '432', 'name': 'Lincoln', 'court_type': 'crown'},\n",
       " {'id': 37, 'code': '433', 'name': 'Liverpool', 'court_type': 'crown'},\n",
       " {'id': 38, 'code': '476', 'name': 'Luton', 'court_type': 'crown'},\n",
       " {'id': 39, 'code': '434', 'name': 'Maidstone', 'court_type': 'crown'},\n",
       " {'id': 40,\n",
       "  'code': '435',\n",
       "  'name': 'Manchester (Crown Sq)',\n",
       "  'court_type': 'crown'},\n",
       " {'id': 41,\n",
       "  'code': '436',\n",
       "  'name': 'Manchester (Minshull St)',\n",
       "  'court_type': 'crown'},\n",
       " {'id': 42, 'code': '437', 'name': 'Merthyr Tydfil', 'court_type': 'crown'},\n",
       " {'id': 43, 'code': '464', 'name': 'Middx Guildhall', 'court_type': 'crown'},\n",
       " {'id': 44, 'code': '438', 'name': 'Mold', 'court_type': 'crown'},\n",
       " {'id': 45, 'code': '439', 'name': 'Newcastle', 'court_type': 'crown'},\n",
       " {'id': 46, 'code': '478', 'name': 'Newport (IOW)', 'court_type': 'crown'},\n",
       " {'id': 47, 'code': '441', 'name': 'Newport', 'court_type': 'crown'},\n",
       " {'id': 48, 'code': '442', 'name': 'Northampton', 'court_type': 'crown'},\n",
       " {'id': 49, 'code': '443', 'name': 'Norwich', 'court_type': 'crown'},\n",
       " {'id': 50, 'code': '444', 'name': 'Nottingham', 'court_type': 'crown'},\n",
       " {'id': 51, 'code': '445', 'name': 'Oxford', 'court_type': 'crown'},\n",
       " {'id': 52, 'code': '473', 'name': 'Peterborough', 'court_type': 'crown'},\n",
       " {'id': 53, 'code': '446', 'name': 'Plymouth', 'court_type': 'crown'},\n",
       " {'id': 54, 'code': '447', 'name': 'Portsmouth', 'court_type': 'crown'},\n",
       " {'id': 55, 'code': '448', 'name': 'Preston', 'court_type': 'crown'},\n",
       " {'id': 56, 'code': '449', 'name': 'Reading', 'court_type': 'crown'},\n",
       " {'id': 57, 'code': '480', 'name': 'Salisbury', 'court_type': 'crown'},\n",
       " {'id': 58, 'code': '451', 'name': 'Sheffield', 'court_type': 'crown'},\n",
       " {'id': 59, 'code': '452', 'name': 'Shrewsbury', 'court_type': 'crown'},\n",
       " {'id': 60, 'code': '453', 'name': 'Snaresbrook', 'court_type': 'crown'},\n",
       " {'id': 61, 'code': '454', 'name': 'Southampton', 'court_type': 'crown'},\n",
       " {'id': 62, 'code': '471', 'name': 'Southwark', 'court_type': 'crown'},\n",
       " {'id': 63, 'code': '450', 'name': 'St Albans', 'court_type': 'crown'},\n",
       " {'id': 64, 'code': '455', 'name': 'Stafford', 'court_type': 'crown'},\n",
       " {'id': 65, 'code': '456', 'name': 'Stoke on Trent', 'court_type': 'crown'},\n",
       " {'id': 66, 'code': '457', 'name': 'Swansea', 'court_type': 'crown'},\n",
       " {'id': 67, 'code': '458', 'name': 'Swindon', 'court_type': 'crown'},\n",
       " {'id': 68, 'code': '459', 'name': 'Taunton', 'court_type': 'crown'},\n",
       " {'id': 69, 'code': '460', 'name': 'Teesside', 'court_type': 'crown'},\n",
       " {'id': 70, 'code': '477', 'name': 'Truro', 'court_type': 'crown'},\n",
       " {'id': 71, 'code': '462', 'name': 'Warrington', 'court_type': 'crown'},\n",
       " {'id': 72, 'code': '463', 'name': 'Warwick', 'court_type': 'crown'},\n",
       " {'id': 73,\n",
       "  'code': '407',\n",
       "  'name': 'Weymouth and Dorcester',\n",
       "  'court_type': 'crown'},\n",
       " {'id': 74, 'code': '465', 'name': 'Winchester', 'court_type': 'crown'},\n",
       " {'id': 75, 'code': '421', 'name': 'Wolverhampton', 'court_type': 'crown'},\n",
       " {'id': 76, 'code': '469', 'name': 'Wood Green', 'court_type': 'crown'},\n",
       " {'id': 77, 'code': '472', 'name': 'Woolwich', 'court_type': 'crown'},\n",
       " {'id': 78, 'code': '466', 'name': 'Worcester', 'court_type': 'crown'},\n",
       " {'id': 79, 'code': '467', 'name': 'York', 'court_type': 'crown'},\n",
       " {'id': 80, 'code': '999', 'name': 'Caernarfon', 'court_type': 'crown'}]"
      ]
     },
     "metadata": {},
     "output_type": "display_data"
    }
   ],
   "source": [
    "url = \"https://staging.claim-crown-court-defence.service.justice.gov.uk/api/courts\"\n",
    "\n",
    "# defining a params dict for the parameters to be sent to the API \n",
    "params = {'api_key':api_key} \n",
    "  \n",
    "# sending get request and saving the response as response object \n",
    "r = requests.get(url=url, params=params)\n",
    "response_data = json.loads(r.text)\n",
    "display(r.status_code, response_data)"
   ]
  },
  {
   "cell_type": "code",
   "execution_count": null,
   "metadata": {},
   "outputs": [],
   "source": []
  },
  {
   "cell_type": "markdown",
   "metadata": {},
   "source": [
    "# Try Post"
   ]
  },
  {
   "cell_type": "code",
   "execution_count": 120,
   "metadata": {},
   "outputs": [],
   "source": [
    "adv_fin_url = \"https://staging.claim-crown-court-defence.service.justice.gov.uk\" + \"/api/external_users/claims/advocates/final/\""
   ]
  },
  {
   "cell_type": "code",
   "execution_count": 121,
   "metadata": {},
   "outputs": [],
   "source": [
    "data = {'api_key': api_key,\n",
    "        'creator_email': 'advocateadmin@example.com',\n",
    "        'court_id': 1,\n",
    "        'case_type_id': 12,\n",
    "        'user_email': 'alan.maydwell@digital.justice.gov.uk',\n",
    "        'offence_id': 2186,\n",
    "        'case_number': 'T20202020',\n",
    "        'advocate_category': 'Junior',\n",
    "        'first_day_of_trial': '2020-01-01',\n",
    "        'trial_concluded_at': '2020-01-05'\n",
    "         } "
   ]
  },
  {
   "cell_type": "code",
   "execution_count": 122,
   "metadata": {},
   "outputs": [],
   "source": [
    "r = requests.post(url=adv_fin_url, data=data)"
   ]
  },
  {
   "cell_type": "code",
   "execution_count": 123,
   "metadata": {},
   "outputs": [
    {
     "name": "stdout",
     "output_type": "stream",
     "text": [
      "201 {\"court_id\":1,\"case_type_id\":12,\"offence_id\":2186,\"case_number\":\"T20202020\",\"advocate_category\":\"Junior\",\"first_day_of_trial\":\"2020-01-01\",\"trial_concluded_at\":\"2020-01-05\",\"id\":\"7216b366-33aa-4f3a-93f2-b809b64061e7\"}\n"
     ]
    }
   ],
   "source": [
    "print(r.status_code, r.text)"
   ]
  },
  {
   "cell_type": "code",
   "execution_count": null,
   "metadata": {},
   "outputs": [],
   "source": []
  }
 ],
 "metadata": {
  "kernelspec": {
   "display_name": "Python 3",
   "language": "python",
   "name": "python3"
  },
  "language_info": {
   "codemirror_mode": {
    "name": "ipython",
    "version": 3
   },
   "file_extension": ".py",
   "mimetype": "text/x-python",
   "name": "python",
   "nbconvert_exporter": "python",
   "pygments_lexer": "ipython3",
   "version": "3.6.9"
  }
 },
 "nbformat": 4,
 "nbformat_minor": 4
}
